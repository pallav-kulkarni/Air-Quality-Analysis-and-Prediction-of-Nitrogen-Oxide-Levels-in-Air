{
  "nbformat": 4,
  "nbformat_minor": 0,
  "metadata": {
    "colab": {
      "name": "2. Air Quality UCI - Feature Engineering and Predictive Modelling.ipynb",
      "provenance": [],
      "collapsed_sections": [
        "IzbT18XmiyC2",
        "20U_i4BJistB",
        "tOFWBx4Pi_Hi",
        "uJSWiX0_mixu"
      ]
    },
    "kernelspec": {
      "name": "python3",
      "display_name": "Python 3"
    },
    "accelerator": "TPU"
  },
  "cells": [
    {
      "cell_type": "markdown",
      "metadata": {
        "id": "zgrBdq9cMp7e",
        "colab_type": "text"
      },
      "source": [
        "# **[AIR QUALITY UCI](https://archive.ics.uci.edu/ml/datasets/Air+quality)**\n",
        "\n",
        "\n",
        "\n",
        "\n",
        "\n",
        "---\n",
        "**Abstract:** Contains the responses of a gas multisensor device deployed on the field in an Italian city. Hourly responses averages are recorded along with gas concentrations references from a certified analyzer.\n",
        "---\n",
        "\n",
        "**Data Set Information:**\n",
        "\n",
        "The dataset contains 9358 instances of hourly averaged responses from an array of 5 metal oxide chemical sensors embedded in an Air Quality Chemical Multisensor Device. \n",
        "The device was located on the field in a significantly polluted area, at road level,within an Italian city. Data were recorded from March 2004 to February 2005 (one year)representing the longest freely available recordings of on field deployed air quality chemical sensor devices responses. Ground Truth hourly averaged concentrations for CO, Non Metanic Hydrocarbons, Benzene, Total Nitrogen Oxides (NOx) and Nitrogen Dioxide (NO2) and were provided by a co-located reference certified analyzer. Evidences of cross-sensitivities as well as both concept and sensor drifts are present as described in De Vito et al., Sens. And Act. B, Vol. 129,2,2008 (citation required) eventually affecting sensors concentration estimation capabilities. Missing values are tagged with -200 value.\n",
        "This dataset can be used exclusively for research purposes. Commercial purposes are fully excluded.\n",
        "\n",
        "---\n",
        "**Attribute Information:**\n",
        "\n",
        "0 Date (DD/MM/YYYY)\n",
        "\n",
        "1 Time (HH.MM.SS)\n",
        "\n",
        "2 True hourly averaged concentration CO in mg/m^3 (reference analyzer)\n",
        "\n",
        "3 PT08.S1 (tin oxide) hourly averaged sensor response (nominally CO targeted)\n",
        "\n",
        "4 True hourly averaged overall Non Metanic HydroCarbons concentration in microg/m^3 (reference analyzer)\n",
        "\n",
        "5 True hourly averaged Benzene concentration in microg/m^3 (reference analyzer)\n",
        "\n",
        "6 PT08.S2 (titania) hourly averaged sensor response (nominally NMHC targeted)\n",
        "\n",
        "7 True hourly averaged NOx concentration in ppb (reference analyzer)\n",
        "\n",
        "8 PT08.S3 (tungsten oxide) hourly averaged sensor response (nominally NOx targeted)\n",
        "\n",
        "9 True hourly averaged NO2 concentration in microg/m^3 (reference analyzer)\n",
        "\n",
        "10 PT08.S4 (tungsten oxide) hourly averaged sensor response (nominally NO2 targeted)\n",
        "\n",
        "11 PT08.S5 (indium oxide) hourly averaged sensor response (nominally O3 targeted)\n",
        "\n",
        "12 Temperature in Â°C\n",
        "\n",
        "13 Relative Humidity (%)\n",
        "\n",
        "14 AH Absolute Humidity\n",
        "\n",
        "---"
      ]
    },
    {
      "cell_type": "markdown",
      "metadata": {
        "id": "IzbT18XmiyC2",
        "colab_type": "text"
      },
      "source": [
        "## **Feature Engineering**"
      ]
    },
    {
      "cell_type": "code",
      "metadata": {
        "id": "Ge2AjEj_XKQy",
        "colab_type": "code",
        "colab": {}
      },
      "source": [
        "### Our main aim is to Feature Engineering and Predictive Modelling\n",
        "\n",
        "### Importing all the libraries\n",
        "import pandas as pd\n",
        "import numpy as np\n",
        "import matplotlib.pyplot as plt\n",
        "%matplotlib inline\n",
        "import seaborn as sns\n",
        "\n",
        "### Ignoring warnings\n",
        "import warnings\n",
        "warnings.filterwarnings('ignore')\n",
        "\n",
        "### Display all the columns of the dataframe\n",
        "pd.pandas.set_option('display.max_columns',None)\n",
        "\n",
        "### Setting the seaborn skin over matplotlib\n",
        "sns.set(style='whitegrid')"
      ],
      "execution_count": 0,
      "outputs": []
    },
    {
      "cell_type": "code",
      "metadata": {
        "id": "9ErMWaWeXYuh",
        "colab_type": "code",
        "outputId": "aeca900f-d706-468d-8160-8f2050d6abd8",
        "colab": {
          "base_uri": "https://localhost:8080/",
          "height": 34
        }
      },
      "source": [
        "### Importing the dataset\n",
        "dataset = pd.read_csv('AirQualityUCI.csv', sep=',', delimiter=\";\",decimal=\",\")\n",
        "\n",
        "### Print shape of dataset with rows and columns\n",
        "print(dataset.shape)"
      ],
      "execution_count": 38,
      "outputs": [
        {
          "output_type": "stream",
          "text": [
            "(9471, 17)\n"
          ],
          "name": "stdout"
        }
      ]
    },
    {
      "cell_type": "markdown",
      "metadata": {
        "id": "ga2NxljimPbg",
        "colab_type": "text"
      },
      "source": [
        "*Dataset containing:*\n",
        "* *Rows: 9471*\n",
        "* *Columns: 17*"
      ]
    },
    {
      "cell_type": "code",
      "metadata": {
        "id": "u4MMVboWX2dx",
        "colab_type": "code",
        "outputId": "0100b884-9f95-43e3-9553-577ead205f10",
        "colab": {
          "base_uri": "https://localhost:8080/",
          "height": 386
        }
      },
      "source": [
        "### Print the top 10 records\n",
        "dataset.head(10)"
      ],
      "execution_count": 39,
      "outputs": [
        {
          "output_type": "execute_result",
          "data": {
            "text/html": [
              "<div>\n",
              "<style scoped>\n",
              "    .dataframe tbody tr th:only-of-type {\n",
              "        vertical-align: middle;\n",
              "    }\n",
              "\n",
              "    .dataframe tbody tr th {\n",
              "        vertical-align: top;\n",
              "    }\n",
              "\n",
              "    .dataframe thead th {\n",
              "        text-align: right;\n",
              "    }\n",
              "</style>\n",
              "<table border=\"1\" class=\"dataframe\">\n",
              "  <thead>\n",
              "    <tr style=\"text-align: right;\">\n",
              "      <th></th>\n",
              "      <th>Date</th>\n",
              "      <th>Time</th>\n",
              "      <th>CO(GT)</th>\n",
              "      <th>PT08.S1(CO)</th>\n",
              "      <th>NMHC(GT)</th>\n",
              "      <th>C6H6(GT)</th>\n",
              "      <th>PT08.S2(NMHC)</th>\n",
              "      <th>NOx(GT)</th>\n",
              "      <th>PT08.S3(NOx)</th>\n",
              "      <th>NO2(GT)</th>\n",
              "      <th>PT08.S4(NO2)</th>\n",
              "      <th>PT08.S5(O3)</th>\n",
              "      <th>T</th>\n",
              "      <th>RH</th>\n",
              "      <th>AH</th>\n",
              "      <th>Unnamed: 15</th>\n",
              "      <th>Unnamed: 16</th>\n",
              "    </tr>\n",
              "  </thead>\n",
              "  <tbody>\n",
              "    <tr>\n",
              "      <th>0</th>\n",
              "      <td>10/03/2004</td>\n",
              "      <td>18.00.00</td>\n",
              "      <td>2.6</td>\n",
              "      <td>1360.0</td>\n",
              "      <td>150.0</td>\n",
              "      <td>11.9</td>\n",
              "      <td>1046.0</td>\n",
              "      <td>166.0</td>\n",
              "      <td>1056.0</td>\n",
              "      <td>113.0</td>\n",
              "      <td>1692.0</td>\n",
              "      <td>1268.0</td>\n",
              "      <td>13.6</td>\n",
              "      <td>48.9</td>\n",
              "      <td>0.7578</td>\n",
              "      <td>NaN</td>\n",
              "      <td>NaN</td>\n",
              "    </tr>\n",
              "    <tr>\n",
              "      <th>1</th>\n",
              "      <td>10/03/2004</td>\n",
              "      <td>19.00.00</td>\n",
              "      <td>2.0</td>\n",
              "      <td>1292.0</td>\n",
              "      <td>112.0</td>\n",
              "      <td>9.4</td>\n",
              "      <td>955.0</td>\n",
              "      <td>103.0</td>\n",
              "      <td>1174.0</td>\n",
              "      <td>92.0</td>\n",
              "      <td>1559.0</td>\n",
              "      <td>972.0</td>\n",
              "      <td>13.3</td>\n",
              "      <td>47.7</td>\n",
              "      <td>0.7255</td>\n",
              "      <td>NaN</td>\n",
              "      <td>NaN</td>\n",
              "    </tr>\n",
              "    <tr>\n",
              "      <th>2</th>\n",
              "      <td>10/03/2004</td>\n",
              "      <td>20.00.00</td>\n",
              "      <td>2.2</td>\n",
              "      <td>1402.0</td>\n",
              "      <td>88.0</td>\n",
              "      <td>9.0</td>\n",
              "      <td>939.0</td>\n",
              "      <td>131.0</td>\n",
              "      <td>1140.0</td>\n",
              "      <td>114.0</td>\n",
              "      <td>1555.0</td>\n",
              "      <td>1074.0</td>\n",
              "      <td>11.9</td>\n",
              "      <td>54.0</td>\n",
              "      <td>0.7502</td>\n",
              "      <td>NaN</td>\n",
              "      <td>NaN</td>\n",
              "    </tr>\n",
              "    <tr>\n",
              "      <th>3</th>\n",
              "      <td>10/03/2004</td>\n",
              "      <td>21.00.00</td>\n",
              "      <td>2.2</td>\n",
              "      <td>1376.0</td>\n",
              "      <td>80.0</td>\n",
              "      <td>9.2</td>\n",
              "      <td>948.0</td>\n",
              "      <td>172.0</td>\n",
              "      <td>1092.0</td>\n",
              "      <td>122.0</td>\n",
              "      <td>1584.0</td>\n",
              "      <td>1203.0</td>\n",
              "      <td>11.0</td>\n",
              "      <td>60.0</td>\n",
              "      <td>0.7867</td>\n",
              "      <td>NaN</td>\n",
              "      <td>NaN</td>\n",
              "    </tr>\n",
              "    <tr>\n",
              "      <th>4</th>\n",
              "      <td>10/03/2004</td>\n",
              "      <td>22.00.00</td>\n",
              "      <td>1.6</td>\n",
              "      <td>1272.0</td>\n",
              "      <td>51.0</td>\n",
              "      <td>6.5</td>\n",
              "      <td>836.0</td>\n",
              "      <td>131.0</td>\n",
              "      <td>1205.0</td>\n",
              "      <td>116.0</td>\n",
              "      <td>1490.0</td>\n",
              "      <td>1110.0</td>\n",
              "      <td>11.2</td>\n",
              "      <td>59.6</td>\n",
              "      <td>0.7888</td>\n",
              "      <td>NaN</td>\n",
              "      <td>NaN</td>\n",
              "    </tr>\n",
              "    <tr>\n",
              "      <th>5</th>\n",
              "      <td>10/03/2004</td>\n",
              "      <td>23.00.00</td>\n",
              "      <td>1.2</td>\n",
              "      <td>1197.0</td>\n",
              "      <td>38.0</td>\n",
              "      <td>4.7</td>\n",
              "      <td>750.0</td>\n",
              "      <td>89.0</td>\n",
              "      <td>1337.0</td>\n",
              "      <td>96.0</td>\n",
              "      <td>1393.0</td>\n",
              "      <td>949.0</td>\n",
              "      <td>11.2</td>\n",
              "      <td>59.2</td>\n",
              "      <td>0.7848</td>\n",
              "      <td>NaN</td>\n",
              "      <td>NaN</td>\n",
              "    </tr>\n",
              "    <tr>\n",
              "      <th>6</th>\n",
              "      <td>11/03/2004</td>\n",
              "      <td>00.00.00</td>\n",
              "      <td>1.2</td>\n",
              "      <td>1185.0</td>\n",
              "      <td>31.0</td>\n",
              "      <td>3.6</td>\n",
              "      <td>690.0</td>\n",
              "      <td>62.0</td>\n",
              "      <td>1462.0</td>\n",
              "      <td>77.0</td>\n",
              "      <td>1333.0</td>\n",
              "      <td>733.0</td>\n",
              "      <td>11.3</td>\n",
              "      <td>56.8</td>\n",
              "      <td>0.7603</td>\n",
              "      <td>NaN</td>\n",
              "      <td>NaN</td>\n",
              "    </tr>\n",
              "    <tr>\n",
              "      <th>7</th>\n",
              "      <td>11/03/2004</td>\n",
              "      <td>01.00.00</td>\n",
              "      <td>1.0</td>\n",
              "      <td>1136.0</td>\n",
              "      <td>31.0</td>\n",
              "      <td>3.3</td>\n",
              "      <td>672.0</td>\n",
              "      <td>62.0</td>\n",
              "      <td>1453.0</td>\n",
              "      <td>76.0</td>\n",
              "      <td>1333.0</td>\n",
              "      <td>730.0</td>\n",
              "      <td>10.7</td>\n",
              "      <td>60.0</td>\n",
              "      <td>0.7702</td>\n",
              "      <td>NaN</td>\n",
              "      <td>NaN</td>\n",
              "    </tr>\n",
              "    <tr>\n",
              "      <th>8</th>\n",
              "      <td>11/03/2004</td>\n",
              "      <td>02.00.00</td>\n",
              "      <td>0.9</td>\n",
              "      <td>1094.0</td>\n",
              "      <td>24.0</td>\n",
              "      <td>2.3</td>\n",
              "      <td>609.0</td>\n",
              "      <td>45.0</td>\n",
              "      <td>1579.0</td>\n",
              "      <td>60.0</td>\n",
              "      <td>1276.0</td>\n",
              "      <td>620.0</td>\n",
              "      <td>10.7</td>\n",
              "      <td>59.7</td>\n",
              "      <td>0.7648</td>\n",
              "      <td>NaN</td>\n",
              "      <td>NaN</td>\n",
              "    </tr>\n",
              "    <tr>\n",
              "      <th>9</th>\n",
              "      <td>11/03/2004</td>\n",
              "      <td>03.00.00</td>\n",
              "      <td>0.6</td>\n",
              "      <td>1010.0</td>\n",
              "      <td>19.0</td>\n",
              "      <td>1.7</td>\n",
              "      <td>561.0</td>\n",
              "      <td>-200.0</td>\n",
              "      <td>1705.0</td>\n",
              "      <td>-200.0</td>\n",
              "      <td>1235.0</td>\n",
              "      <td>501.0</td>\n",
              "      <td>10.3</td>\n",
              "      <td>60.2</td>\n",
              "      <td>0.7517</td>\n",
              "      <td>NaN</td>\n",
              "      <td>NaN</td>\n",
              "    </tr>\n",
              "  </tbody>\n",
              "</table>\n",
              "</div>"
            ],
            "text/plain": [
              "         Date      Time  CO(GT)  PT08.S1(CO)  NMHC(GT)  C6H6(GT)  \\\n",
              "0  10/03/2004  18.00.00     2.6       1360.0     150.0      11.9   \n",
              "1  10/03/2004  19.00.00     2.0       1292.0     112.0       9.4   \n",
              "2  10/03/2004  20.00.00     2.2       1402.0      88.0       9.0   \n",
              "3  10/03/2004  21.00.00     2.2       1376.0      80.0       9.2   \n",
              "4  10/03/2004  22.00.00     1.6       1272.0      51.0       6.5   \n",
              "5  10/03/2004  23.00.00     1.2       1197.0      38.0       4.7   \n",
              "6  11/03/2004  00.00.00     1.2       1185.0      31.0       3.6   \n",
              "7  11/03/2004  01.00.00     1.0       1136.0      31.0       3.3   \n",
              "8  11/03/2004  02.00.00     0.9       1094.0      24.0       2.3   \n",
              "9  11/03/2004  03.00.00     0.6       1010.0      19.0       1.7   \n",
              "\n",
              "   PT08.S2(NMHC)  NOx(GT)  PT08.S3(NOx)  NO2(GT)  PT08.S4(NO2)  PT08.S5(O3)  \\\n",
              "0         1046.0    166.0        1056.0    113.0        1692.0       1268.0   \n",
              "1          955.0    103.0        1174.0     92.0        1559.0        972.0   \n",
              "2          939.0    131.0        1140.0    114.0        1555.0       1074.0   \n",
              "3          948.0    172.0        1092.0    122.0        1584.0       1203.0   \n",
              "4          836.0    131.0        1205.0    116.0        1490.0       1110.0   \n",
              "5          750.0     89.0        1337.0     96.0        1393.0        949.0   \n",
              "6          690.0     62.0        1462.0     77.0        1333.0        733.0   \n",
              "7          672.0     62.0        1453.0     76.0        1333.0        730.0   \n",
              "8          609.0     45.0        1579.0     60.0        1276.0        620.0   \n",
              "9          561.0   -200.0        1705.0   -200.0        1235.0        501.0   \n",
              "\n",
              "      T    RH      AH  Unnamed: 15  Unnamed: 16  \n",
              "0  13.6  48.9  0.7578          NaN          NaN  \n",
              "1  13.3  47.7  0.7255          NaN          NaN  \n",
              "2  11.9  54.0  0.7502          NaN          NaN  \n",
              "3  11.0  60.0  0.7867          NaN          NaN  \n",
              "4  11.2  59.6  0.7888          NaN          NaN  \n",
              "5  11.2  59.2  0.7848          NaN          NaN  \n",
              "6  11.3  56.8  0.7603          NaN          NaN  \n",
              "7  10.7  60.0  0.7702          NaN          NaN  \n",
              "8  10.7  59.7  0.7648          NaN          NaN  \n",
              "9  10.3  60.2  0.7517          NaN          NaN  "
            ]
          },
          "metadata": {
            "tags": []
          },
          "execution_count": 39
        }
      ]
    },
    {
      "cell_type": "code",
      "metadata": {
        "id": "FdAQoTyHi-Yc",
        "colab_type": "code",
        "outputId": "8806cfe1-8006-4dd7-f4e8-909b1bcb17fc",
        "colab": {
          "base_uri": "https://localhost:8080/",
          "height": 386
        }
      },
      "source": [
        "### Print bottom 10 records\n",
        "dataset.tail(10)"
      ],
      "execution_count": 40,
      "outputs": [
        {
          "output_type": "execute_result",
          "data": {
            "text/html": [
              "<div>\n",
              "<style scoped>\n",
              "    .dataframe tbody tr th:only-of-type {\n",
              "        vertical-align: middle;\n",
              "    }\n",
              "\n",
              "    .dataframe tbody tr th {\n",
              "        vertical-align: top;\n",
              "    }\n",
              "\n",
              "    .dataframe thead th {\n",
              "        text-align: right;\n",
              "    }\n",
              "</style>\n",
              "<table border=\"1\" class=\"dataframe\">\n",
              "  <thead>\n",
              "    <tr style=\"text-align: right;\">\n",
              "      <th></th>\n",
              "      <th>Date</th>\n",
              "      <th>Time</th>\n",
              "      <th>CO(GT)</th>\n",
              "      <th>PT08.S1(CO)</th>\n",
              "      <th>NMHC(GT)</th>\n",
              "      <th>C6H6(GT)</th>\n",
              "      <th>PT08.S2(NMHC)</th>\n",
              "      <th>NOx(GT)</th>\n",
              "      <th>PT08.S3(NOx)</th>\n",
              "      <th>NO2(GT)</th>\n",
              "      <th>PT08.S4(NO2)</th>\n",
              "      <th>PT08.S5(O3)</th>\n",
              "      <th>T</th>\n",
              "      <th>RH</th>\n",
              "      <th>AH</th>\n",
              "      <th>Unnamed: 15</th>\n",
              "      <th>Unnamed: 16</th>\n",
              "    </tr>\n",
              "  </thead>\n",
              "  <tbody>\n",
              "    <tr>\n",
              "      <th>9461</th>\n",
              "      <td>NaN</td>\n",
              "      <td>NaN</td>\n",
              "      <td>NaN</td>\n",
              "      <td>NaN</td>\n",
              "      <td>NaN</td>\n",
              "      <td>NaN</td>\n",
              "      <td>NaN</td>\n",
              "      <td>NaN</td>\n",
              "      <td>NaN</td>\n",
              "      <td>NaN</td>\n",
              "      <td>NaN</td>\n",
              "      <td>NaN</td>\n",
              "      <td>NaN</td>\n",
              "      <td>NaN</td>\n",
              "      <td>NaN</td>\n",
              "      <td>NaN</td>\n",
              "      <td>NaN</td>\n",
              "    </tr>\n",
              "    <tr>\n",
              "      <th>9462</th>\n",
              "      <td>NaN</td>\n",
              "      <td>NaN</td>\n",
              "      <td>NaN</td>\n",
              "      <td>NaN</td>\n",
              "      <td>NaN</td>\n",
              "      <td>NaN</td>\n",
              "      <td>NaN</td>\n",
              "      <td>NaN</td>\n",
              "      <td>NaN</td>\n",
              "      <td>NaN</td>\n",
              "      <td>NaN</td>\n",
              "      <td>NaN</td>\n",
              "      <td>NaN</td>\n",
              "      <td>NaN</td>\n",
              "      <td>NaN</td>\n",
              "      <td>NaN</td>\n",
              "      <td>NaN</td>\n",
              "    </tr>\n",
              "    <tr>\n",
              "      <th>9463</th>\n",
              "      <td>NaN</td>\n",
              "      <td>NaN</td>\n",
              "      <td>NaN</td>\n",
              "      <td>NaN</td>\n",
              "      <td>NaN</td>\n",
              "      <td>NaN</td>\n",
              "      <td>NaN</td>\n",
              "      <td>NaN</td>\n",
              "      <td>NaN</td>\n",
              "      <td>NaN</td>\n",
              "      <td>NaN</td>\n",
              "      <td>NaN</td>\n",
              "      <td>NaN</td>\n",
              "      <td>NaN</td>\n",
              "      <td>NaN</td>\n",
              "      <td>NaN</td>\n",
              "      <td>NaN</td>\n",
              "    </tr>\n",
              "    <tr>\n",
              "      <th>9464</th>\n",
              "      <td>NaN</td>\n",
              "      <td>NaN</td>\n",
              "      <td>NaN</td>\n",
              "      <td>NaN</td>\n",
              "      <td>NaN</td>\n",
              "      <td>NaN</td>\n",
              "      <td>NaN</td>\n",
              "      <td>NaN</td>\n",
              "      <td>NaN</td>\n",
              "      <td>NaN</td>\n",
              "      <td>NaN</td>\n",
              "      <td>NaN</td>\n",
              "      <td>NaN</td>\n",
              "      <td>NaN</td>\n",
              "      <td>NaN</td>\n",
              "      <td>NaN</td>\n",
              "      <td>NaN</td>\n",
              "    </tr>\n",
              "    <tr>\n",
              "      <th>9465</th>\n",
              "      <td>NaN</td>\n",
              "      <td>NaN</td>\n",
              "      <td>NaN</td>\n",
              "      <td>NaN</td>\n",
              "      <td>NaN</td>\n",
              "      <td>NaN</td>\n",
              "      <td>NaN</td>\n",
              "      <td>NaN</td>\n",
              "      <td>NaN</td>\n",
              "      <td>NaN</td>\n",
              "      <td>NaN</td>\n",
              "      <td>NaN</td>\n",
              "      <td>NaN</td>\n",
              "      <td>NaN</td>\n",
              "      <td>NaN</td>\n",
              "      <td>NaN</td>\n",
              "      <td>NaN</td>\n",
              "    </tr>\n",
              "    <tr>\n",
              "      <th>9466</th>\n",
              "      <td>NaN</td>\n",
              "      <td>NaN</td>\n",
              "      <td>NaN</td>\n",
              "      <td>NaN</td>\n",
              "      <td>NaN</td>\n",
              "      <td>NaN</td>\n",
              "      <td>NaN</td>\n",
              "      <td>NaN</td>\n",
              "      <td>NaN</td>\n",
              "      <td>NaN</td>\n",
              "      <td>NaN</td>\n",
              "      <td>NaN</td>\n",
              "      <td>NaN</td>\n",
              "      <td>NaN</td>\n",
              "      <td>NaN</td>\n",
              "      <td>NaN</td>\n",
              "      <td>NaN</td>\n",
              "    </tr>\n",
              "    <tr>\n",
              "      <th>9467</th>\n",
              "      <td>NaN</td>\n",
              "      <td>NaN</td>\n",
              "      <td>NaN</td>\n",
              "      <td>NaN</td>\n",
              "      <td>NaN</td>\n",
              "      <td>NaN</td>\n",
              "      <td>NaN</td>\n",
              "      <td>NaN</td>\n",
              "      <td>NaN</td>\n",
              "      <td>NaN</td>\n",
              "      <td>NaN</td>\n",
              "      <td>NaN</td>\n",
              "      <td>NaN</td>\n",
              "      <td>NaN</td>\n",
              "      <td>NaN</td>\n",
              "      <td>NaN</td>\n",
              "      <td>NaN</td>\n",
              "    </tr>\n",
              "    <tr>\n",
              "      <th>9468</th>\n",
              "      <td>NaN</td>\n",
              "      <td>NaN</td>\n",
              "      <td>NaN</td>\n",
              "      <td>NaN</td>\n",
              "      <td>NaN</td>\n",
              "      <td>NaN</td>\n",
              "      <td>NaN</td>\n",
              "      <td>NaN</td>\n",
              "      <td>NaN</td>\n",
              "      <td>NaN</td>\n",
              "      <td>NaN</td>\n",
              "      <td>NaN</td>\n",
              "      <td>NaN</td>\n",
              "      <td>NaN</td>\n",
              "      <td>NaN</td>\n",
              "      <td>NaN</td>\n",
              "      <td>NaN</td>\n",
              "    </tr>\n",
              "    <tr>\n",
              "      <th>9469</th>\n",
              "      <td>NaN</td>\n",
              "      <td>NaN</td>\n",
              "      <td>NaN</td>\n",
              "      <td>NaN</td>\n",
              "      <td>NaN</td>\n",
              "      <td>NaN</td>\n",
              "      <td>NaN</td>\n",
              "      <td>NaN</td>\n",
              "      <td>NaN</td>\n",
              "      <td>NaN</td>\n",
              "      <td>NaN</td>\n",
              "      <td>NaN</td>\n",
              "      <td>NaN</td>\n",
              "      <td>NaN</td>\n",
              "      <td>NaN</td>\n",
              "      <td>NaN</td>\n",
              "      <td>NaN</td>\n",
              "    </tr>\n",
              "    <tr>\n",
              "      <th>9470</th>\n",
              "      <td>NaN</td>\n",
              "      <td>NaN</td>\n",
              "      <td>NaN</td>\n",
              "      <td>NaN</td>\n",
              "      <td>NaN</td>\n",
              "      <td>NaN</td>\n",
              "      <td>NaN</td>\n",
              "      <td>NaN</td>\n",
              "      <td>NaN</td>\n",
              "      <td>NaN</td>\n",
              "      <td>NaN</td>\n",
              "      <td>NaN</td>\n",
              "      <td>NaN</td>\n",
              "      <td>NaN</td>\n",
              "      <td>NaN</td>\n",
              "      <td>NaN</td>\n",
              "      <td>NaN</td>\n",
              "    </tr>\n",
              "  </tbody>\n",
              "</table>\n",
              "</div>"
            ],
            "text/plain": [
              "     Date Time  CO(GT)  PT08.S1(CO)  NMHC(GT)  C6H6(GT)  PT08.S2(NMHC)  \\\n",
              "9461  NaN  NaN     NaN          NaN       NaN       NaN            NaN   \n",
              "9462  NaN  NaN     NaN          NaN       NaN       NaN            NaN   \n",
              "9463  NaN  NaN     NaN          NaN       NaN       NaN            NaN   \n",
              "9464  NaN  NaN     NaN          NaN       NaN       NaN            NaN   \n",
              "9465  NaN  NaN     NaN          NaN       NaN       NaN            NaN   \n",
              "9466  NaN  NaN     NaN          NaN       NaN       NaN            NaN   \n",
              "9467  NaN  NaN     NaN          NaN       NaN       NaN            NaN   \n",
              "9468  NaN  NaN     NaN          NaN       NaN       NaN            NaN   \n",
              "9469  NaN  NaN     NaN          NaN       NaN       NaN            NaN   \n",
              "9470  NaN  NaN     NaN          NaN       NaN       NaN            NaN   \n",
              "\n",
              "      NOx(GT)  PT08.S3(NOx)  NO2(GT)  PT08.S4(NO2)  PT08.S5(O3)   T  RH  AH  \\\n",
              "9461      NaN           NaN      NaN           NaN          NaN NaN NaN NaN   \n",
              "9462      NaN           NaN      NaN           NaN          NaN NaN NaN NaN   \n",
              "9463      NaN           NaN      NaN           NaN          NaN NaN NaN NaN   \n",
              "9464      NaN           NaN      NaN           NaN          NaN NaN NaN NaN   \n",
              "9465      NaN           NaN      NaN           NaN          NaN NaN NaN NaN   \n",
              "9466      NaN           NaN      NaN           NaN          NaN NaN NaN NaN   \n",
              "9467      NaN           NaN      NaN           NaN          NaN NaN NaN NaN   \n",
              "9468      NaN           NaN      NaN           NaN          NaN NaN NaN NaN   \n",
              "9469      NaN           NaN      NaN           NaN          NaN NaN NaN NaN   \n",
              "9470      NaN           NaN      NaN           NaN          NaN NaN NaN NaN   \n",
              "\n",
              "      Unnamed: 15  Unnamed: 16  \n",
              "9461          NaN          NaN  \n",
              "9462          NaN          NaN  \n",
              "9463          NaN          NaN  \n",
              "9464          NaN          NaN  \n",
              "9465          NaN          NaN  \n",
              "9466          NaN          NaN  \n",
              "9467          NaN          NaN  \n",
              "9468          NaN          NaN  \n",
              "9469          NaN          NaN  \n",
              "9470          NaN          NaN  "
            ]
          },
          "metadata": {
            "tags": []
          },
          "execution_count": 40
        }
      ]
    },
    {
      "cell_type": "markdown",
      "metadata": {
        "id": "Qg3V6KAfldI9",
        "colab_type": "text"
      },
      "source": [
        "*As we can see from the above two tables:*\n",
        "* *The last two columns i.e., 'Unnamed: 15' and 'Unnamed: 16' contains complete NaN values.*\n",
        "* *The data in all the last rows are missing or unavailable containing NaN values*"
      ]
    },
    {
      "cell_type": "markdown",
      "metadata": {
        "id": "8B_2fmdMWrh9",
        "colab_type": "text"
      },
      "source": [
        "###### **From the Exploratory Data Analysis we can colude that:**\n",
        "* *The data contains missing values in the form of NaN and -200.*\n",
        "* *The two columns i.e., 'Unnamed: 15' and 'Unnamed: 16' contain 100% NaN values.*\n",
        "* *There are date and time features in the dataset which is in the object datatype.*\n",
        "* *Outliers are present in the data.*"
      ]
    },
    {
      "cell_type": "markdown",
      "metadata": {
        "id": "20U_i4BJistB",
        "colab_type": "text"
      },
      "source": [
        "## **Data Cleaning**"
      ]
    },
    {
      "cell_type": "code",
      "metadata": {
        "id": "-toLwK6CqSni",
        "colab_type": "code",
        "outputId": "3adb5282-0cda-4122-b1f4-d746cb41d3a6",
        "colab": {
          "base_uri": "https://localhost:8080/",
          "height": 328
        }
      },
      "source": [
        "### **Checking the missing data in our dataset:**\n",
        "dataset.isnull().sum()"
      ],
      "execution_count": 41,
      "outputs": [
        {
          "output_type": "execute_result",
          "data": {
            "text/plain": [
              "Date              114\n",
              "Time              114\n",
              "CO(GT)            114\n",
              "PT08.S1(CO)       114\n",
              "NMHC(GT)          114\n",
              "C6H6(GT)          114\n",
              "PT08.S2(NMHC)     114\n",
              "NOx(GT)           114\n",
              "PT08.S3(NOx)      114\n",
              "NO2(GT)           114\n",
              "PT08.S4(NO2)      114\n",
              "PT08.S5(O3)       114\n",
              "T                 114\n",
              "RH                114\n",
              "AH                114\n",
              "Unnamed: 15      9471\n",
              "Unnamed: 16      9471\n",
              "dtype: int64"
            ]
          },
          "metadata": {
            "tags": []
          },
          "execution_count": 41
        }
      ]
    },
    {
      "cell_type": "markdown",
      "metadata": {
        "id": "gZzrxzdFy5ii",
        "colab_type": "text"
      },
      "source": [
        "Here we can see that there are some missing values in our dataset."
      ]
    },
    {
      "cell_type": "code",
      "metadata": {
        "id": "lMDFsdDHhMWS",
        "colab_type": "code",
        "outputId": "41d0e79d-835e-4f8b-f9b4-acec521a89e2",
        "colab": {
          "base_uri": "https://localhost:8080/",
          "height": 34
        }
      },
      "source": [
        "### Removing the Null Columns:\n",
        "dataset = dataset.drop([\"Unnamed: 15\",\"Unnamed: 16\"], axis=1)\n",
        "dataset.dropna(inplace=True)\n",
        "dataset.shape"
      ],
      "execution_count": 42,
      "outputs": [
        {
          "output_type": "execute_result",
          "data": {
            "text/plain": [
              "(9357, 15)"
            ]
          },
          "metadata": {
            "tags": []
          },
          "execution_count": 42
        }
      ]
    },
    {
      "cell_type": "code",
      "metadata": {
        "id": "ZFGPdkivzNfc",
        "colab_type": "code",
        "outputId": "a935d94f-e523-4932-b889-cae219c19f5f",
        "colab": {
          "base_uri": "https://localhost:8080/",
          "height": 52
        }
      },
      "source": [
        "### Date and Time are temporal features which in object datatype. \n",
        "\n",
        "### Setting date as subindex:\n",
        "dataset.set_index(\"Date\", inplace=True)\n",
        "dataset.index = pd.to_datetime(dataset.index)\n",
        "print('Datatype of Date Column: ',type(dataset.index))\n",
        "\n",
        "### Converting time to hour\n",
        "dataset['Time'] = pd.to_datetime(dataset['Time'],format= '%H.%M.%S').dt.hour\n",
        "print('Datatype of Time Column: ',type(dataset['Time'][0]))"
      ],
      "execution_count": 43,
      "outputs": [
        {
          "output_type": "stream",
          "text": [
            "Datatype of Date Column:  <class 'pandas.core.indexes.datetimes.DatetimeIndex'>\n",
            "Datatype of Time Column:  <class 'numpy.int64'>\n"
          ],
          "name": "stdout"
        }
      ]
    },
    {
      "cell_type": "code",
      "metadata": {
        "id": "rkJyNlKyz5q3",
        "colab_type": "code",
        "outputId": "b7aa2d11-a039-4431-c66d-d3a7ca5d1b1e",
        "colab": {
          "base_uri": "https://localhost:8080/",
          "height": 335
        }
      },
      "source": [
        "### Checking the top 5 rows of dataset\n",
        "dataset.head()"
      ],
      "execution_count": 44,
      "outputs": [
        {
          "output_type": "execute_result",
          "data": {
            "text/html": [
              "<div>\n",
              "<style scoped>\n",
              "    .dataframe tbody tr th:only-of-type {\n",
              "        vertical-align: middle;\n",
              "    }\n",
              "\n",
              "    .dataframe tbody tr th {\n",
              "        vertical-align: top;\n",
              "    }\n",
              "\n",
              "    .dataframe thead th {\n",
              "        text-align: right;\n",
              "    }\n",
              "</style>\n",
              "<table border=\"1\" class=\"dataframe\">\n",
              "  <thead>\n",
              "    <tr style=\"text-align: right;\">\n",
              "      <th></th>\n",
              "      <th>Time</th>\n",
              "      <th>CO(GT)</th>\n",
              "      <th>PT08.S1(CO)</th>\n",
              "      <th>NMHC(GT)</th>\n",
              "      <th>C6H6(GT)</th>\n",
              "      <th>PT08.S2(NMHC)</th>\n",
              "      <th>NOx(GT)</th>\n",
              "      <th>PT08.S3(NOx)</th>\n",
              "      <th>NO2(GT)</th>\n",
              "      <th>PT08.S4(NO2)</th>\n",
              "      <th>PT08.S5(O3)</th>\n",
              "      <th>T</th>\n",
              "      <th>RH</th>\n",
              "      <th>AH</th>\n",
              "    </tr>\n",
              "    <tr>\n",
              "      <th>Date</th>\n",
              "      <th></th>\n",
              "      <th></th>\n",
              "      <th></th>\n",
              "      <th></th>\n",
              "      <th></th>\n",
              "      <th></th>\n",
              "      <th></th>\n",
              "      <th></th>\n",
              "      <th></th>\n",
              "      <th></th>\n",
              "      <th></th>\n",
              "      <th></th>\n",
              "      <th></th>\n",
              "      <th></th>\n",
              "    </tr>\n",
              "  </thead>\n",
              "  <tbody>\n",
              "    <tr>\n",
              "      <th>2004-10-03</th>\n",
              "      <td>18</td>\n",
              "      <td>2.6</td>\n",
              "      <td>1360.0</td>\n",
              "      <td>150.0</td>\n",
              "      <td>11.9</td>\n",
              "      <td>1046.0</td>\n",
              "      <td>166.0</td>\n",
              "      <td>1056.0</td>\n",
              "      <td>113.0</td>\n",
              "      <td>1692.0</td>\n",
              "      <td>1268.0</td>\n",
              "      <td>13.6</td>\n",
              "      <td>48.9</td>\n",
              "      <td>0.7578</td>\n",
              "    </tr>\n",
              "    <tr>\n",
              "      <th>2004-10-03</th>\n",
              "      <td>19</td>\n",
              "      <td>2.0</td>\n",
              "      <td>1292.0</td>\n",
              "      <td>112.0</td>\n",
              "      <td>9.4</td>\n",
              "      <td>955.0</td>\n",
              "      <td>103.0</td>\n",
              "      <td>1174.0</td>\n",
              "      <td>92.0</td>\n",
              "      <td>1559.0</td>\n",
              "      <td>972.0</td>\n",
              "      <td>13.3</td>\n",
              "      <td>47.7</td>\n",
              "      <td>0.7255</td>\n",
              "    </tr>\n",
              "    <tr>\n",
              "      <th>2004-10-03</th>\n",
              "      <td>20</td>\n",
              "      <td>2.2</td>\n",
              "      <td>1402.0</td>\n",
              "      <td>88.0</td>\n",
              "      <td>9.0</td>\n",
              "      <td>939.0</td>\n",
              "      <td>131.0</td>\n",
              "      <td>1140.0</td>\n",
              "      <td>114.0</td>\n",
              "      <td>1555.0</td>\n",
              "      <td>1074.0</td>\n",
              "      <td>11.9</td>\n",
              "      <td>54.0</td>\n",
              "      <td>0.7502</td>\n",
              "    </tr>\n",
              "    <tr>\n",
              "      <th>2004-10-03</th>\n",
              "      <td>21</td>\n",
              "      <td>2.2</td>\n",
              "      <td>1376.0</td>\n",
              "      <td>80.0</td>\n",
              "      <td>9.2</td>\n",
              "      <td>948.0</td>\n",
              "      <td>172.0</td>\n",
              "      <td>1092.0</td>\n",
              "      <td>122.0</td>\n",
              "      <td>1584.0</td>\n",
              "      <td>1203.0</td>\n",
              "      <td>11.0</td>\n",
              "      <td>60.0</td>\n",
              "      <td>0.7867</td>\n",
              "    </tr>\n",
              "    <tr>\n",
              "      <th>2004-10-03</th>\n",
              "      <td>22</td>\n",
              "      <td>1.6</td>\n",
              "      <td>1272.0</td>\n",
              "      <td>51.0</td>\n",
              "      <td>6.5</td>\n",
              "      <td>836.0</td>\n",
              "      <td>131.0</td>\n",
              "      <td>1205.0</td>\n",
              "      <td>116.0</td>\n",
              "      <td>1490.0</td>\n",
              "      <td>1110.0</td>\n",
              "      <td>11.2</td>\n",
              "      <td>59.6</td>\n",
              "      <td>0.7888</td>\n",
              "    </tr>\n",
              "  </tbody>\n",
              "</table>\n",
              "</div>"
            ],
            "text/plain": [
              "            Time  CO(GT)  PT08.S1(CO)  NMHC(GT)  C6H6(GT)  PT08.S2(NMHC)  \\\n",
              "Date                                                                       \n",
              "2004-10-03    18     2.6       1360.0     150.0      11.9         1046.0   \n",
              "2004-10-03    19     2.0       1292.0     112.0       9.4          955.0   \n",
              "2004-10-03    20     2.2       1402.0      88.0       9.0          939.0   \n",
              "2004-10-03    21     2.2       1376.0      80.0       9.2          948.0   \n",
              "2004-10-03    22     1.6       1272.0      51.0       6.5          836.0   \n",
              "\n",
              "            NOx(GT)  PT08.S3(NOx)  NO2(GT)  PT08.S4(NO2)  PT08.S5(O3)     T  \\\n",
              "Date                                                                          \n",
              "2004-10-03    166.0        1056.0    113.0        1692.0       1268.0  13.6   \n",
              "2004-10-03    103.0        1174.0     92.0        1559.0        972.0  13.3   \n",
              "2004-10-03    131.0        1140.0    114.0        1555.0       1074.0  11.9   \n",
              "2004-10-03    172.0        1092.0    122.0        1584.0       1203.0  11.0   \n",
              "2004-10-03    131.0        1205.0    116.0        1490.0       1110.0  11.2   \n",
              "\n",
              "              RH      AH  \n",
              "Date                      \n",
              "2004-10-03  48.9  0.7578  \n",
              "2004-10-03  47.7  0.7255  \n",
              "2004-10-03  54.0  0.7502  \n",
              "2004-10-03  60.0  0.7867  \n",
              "2004-10-03  59.6  0.7888  "
            ]
          },
          "metadata": {
            "tags": []
          },
          "execution_count": 44
        }
      ]
    },
    {
      "cell_type": "code",
      "metadata": {
        "id": "qD_ADh8XrrjB",
        "colab_type": "code",
        "outputId": "9219e22c-4455-4189-bf69-e65f71faaa33",
        "colab": {
          "base_uri": "https://localhost:8080/",
          "height": 308
        }
      },
      "source": [
        "dataset.describe(include='all')"
      ],
      "execution_count": 45,
      "outputs": [
        {
          "output_type": "execute_result",
          "data": {
            "text/html": [
              "<div>\n",
              "<style scoped>\n",
              "    .dataframe tbody tr th:only-of-type {\n",
              "        vertical-align: middle;\n",
              "    }\n",
              "\n",
              "    .dataframe tbody tr th {\n",
              "        vertical-align: top;\n",
              "    }\n",
              "\n",
              "    .dataframe thead th {\n",
              "        text-align: right;\n",
              "    }\n",
              "</style>\n",
              "<table border=\"1\" class=\"dataframe\">\n",
              "  <thead>\n",
              "    <tr style=\"text-align: right;\">\n",
              "      <th></th>\n",
              "      <th>Time</th>\n",
              "      <th>CO(GT)</th>\n",
              "      <th>PT08.S1(CO)</th>\n",
              "      <th>NMHC(GT)</th>\n",
              "      <th>C6H6(GT)</th>\n",
              "      <th>PT08.S2(NMHC)</th>\n",
              "      <th>NOx(GT)</th>\n",
              "      <th>PT08.S3(NOx)</th>\n",
              "      <th>NO2(GT)</th>\n",
              "      <th>PT08.S4(NO2)</th>\n",
              "      <th>PT08.S5(O3)</th>\n",
              "      <th>T</th>\n",
              "      <th>RH</th>\n",
              "      <th>AH</th>\n",
              "    </tr>\n",
              "  </thead>\n",
              "  <tbody>\n",
              "    <tr>\n",
              "      <th>count</th>\n",
              "      <td>9357.000000</td>\n",
              "      <td>9357.000000</td>\n",
              "      <td>9357.000000</td>\n",
              "      <td>9357.000000</td>\n",
              "      <td>9357.000000</td>\n",
              "      <td>9357.000000</td>\n",
              "      <td>9357.000000</td>\n",
              "      <td>9357.000000</td>\n",
              "      <td>9357.000000</td>\n",
              "      <td>9357.000000</td>\n",
              "      <td>9357.000000</td>\n",
              "      <td>9357.000000</td>\n",
              "      <td>9357.000000</td>\n",
              "      <td>9357.000000</td>\n",
              "    </tr>\n",
              "    <tr>\n",
              "      <th>mean</th>\n",
              "      <td>11.498557</td>\n",
              "      <td>-34.207524</td>\n",
              "      <td>1048.990061</td>\n",
              "      <td>-159.090093</td>\n",
              "      <td>1.865683</td>\n",
              "      <td>894.595276</td>\n",
              "      <td>168.616971</td>\n",
              "      <td>794.990168</td>\n",
              "      <td>58.148873</td>\n",
              "      <td>1391.479641</td>\n",
              "      <td>975.072032</td>\n",
              "      <td>9.778305</td>\n",
              "      <td>39.485380</td>\n",
              "      <td>-6.837604</td>\n",
              "    </tr>\n",
              "    <tr>\n",
              "      <th>std</th>\n",
              "      <td>6.923182</td>\n",
              "      <td>77.657170</td>\n",
              "      <td>329.832710</td>\n",
              "      <td>139.789093</td>\n",
              "      <td>41.380206</td>\n",
              "      <td>342.333252</td>\n",
              "      <td>257.433866</td>\n",
              "      <td>321.993552</td>\n",
              "      <td>126.940455</td>\n",
              "      <td>467.210125</td>\n",
              "      <td>456.938184</td>\n",
              "      <td>43.203623</td>\n",
              "      <td>51.216145</td>\n",
              "      <td>38.976670</td>\n",
              "    </tr>\n",
              "    <tr>\n",
              "      <th>min</th>\n",
              "      <td>0.000000</td>\n",
              "      <td>-200.000000</td>\n",
              "      <td>-200.000000</td>\n",
              "      <td>-200.000000</td>\n",
              "      <td>-200.000000</td>\n",
              "      <td>-200.000000</td>\n",
              "      <td>-200.000000</td>\n",
              "      <td>-200.000000</td>\n",
              "      <td>-200.000000</td>\n",
              "      <td>-200.000000</td>\n",
              "      <td>-200.000000</td>\n",
              "      <td>-200.000000</td>\n",
              "      <td>-200.000000</td>\n",
              "      <td>-200.000000</td>\n",
              "    </tr>\n",
              "    <tr>\n",
              "      <th>25%</th>\n",
              "      <td>5.000000</td>\n",
              "      <td>0.600000</td>\n",
              "      <td>921.000000</td>\n",
              "      <td>-200.000000</td>\n",
              "      <td>4.000000</td>\n",
              "      <td>711.000000</td>\n",
              "      <td>50.000000</td>\n",
              "      <td>637.000000</td>\n",
              "      <td>53.000000</td>\n",
              "      <td>1185.000000</td>\n",
              "      <td>700.000000</td>\n",
              "      <td>10.900000</td>\n",
              "      <td>34.100000</td>\n",
              "      <td>0.692300</td>\n",
              "    </tr>\n",
              "    <tr>\n",
              "      <th>50%</th>\n",
              "      <td>11.000000</td>\n",
              "      <td>1.500000</td>\n",
              "      <td>1053.000000</td>\n",
              "      <td>-200.000000</td>\n",
              "      <td>7.900000</td>\n",
              "      <td>895.000000</td>\n",
              "      <td>141.000000</td>\n",
              "      <td>794.000000</td>\n",
              "      <td>96.000000</td>\n",
              "      <td>1446.000000</td>\n",
              "      <td>942.000000</td>\n",
              "      <td>17.200000</td>\n",
              "      <td>48.600000</td>\n",
              "      <td>0.976800</td>\n",
              "    </tr>\n",
              "    <tr>\n",
              "      <th>75%</th>\n",
              "      <td>18.000000</td>\n",
              "      <td>2.600000</td>\n",
              "      <td>1221.000000</td>\n",
              "      <td>-200.000000</td>\n",
              "      <td>13.600000</td>\n",
              "      <td>1105.000000</td>\n",
              "      <td>284.000000</td>\n",
              "      <td>960.000000</td>\n",
              "      <td>133.000000</td>\n",
              "      <td>1662.000000</td>\n",
              "      <td>1255.000000</td>\n",
              "      <td>24.100000</td>\n",
              "      <td>61.900000</td>\n",
              "      <td>1.296200</td>\n",
              "    </tr>\n",
              "    <tr>\n",
              "      <th>max</th>\n",
              "      <td>23.000000</td>\n",
              "      <td>11.900000</td>\n",
              "      <td>2040.000000</td>\n",
              "      <td>1189.000000</td>\n",
              "      <td>63.700000</td>\n",
              "      <td>2214.000000</td>\n",
              "      <td>1479.000000</td>\n",
              "      <td>2683.000000</td>\n",
              "      <td>340.000000</td>\n",
              "      <td>2775.000000</td>\n",
              "      <td>2523.000000</td>\n",
              "      <td>44.600000</td>\n",
              "      <td>88.700000</td>\n",
              "      <td>2.231000</td>\n",
              "    </tr>\n",
              "  </tbody>\n",
              "</table>\n",
              "</div>"
            ],
            "text/plain": [
              "              Time       CO(GT)  PT08.S1(CO)     NMHC(GT)     C6H6(GT)  \\\n",
              "count  9357.000000  9357.000000  9357.000000  9357.000000  9357.000000   \n",
              "mean     11.498557   -34.207524  1048.990061  -159.090093     1.865683   \n",
              "std       6.923182    77.657170   329.832710   139.789093    41.380206   \n",
              "min       0.000000  -200.000000  -200.000000  -200.000000  -200.000000   \n",
              "25%       5.000000     0.600000   921.000000  -200.000000     4.000000   \n",
              "50%      11.000000     1.500000  1053.000000  -200.000000     7.900000   \n",
              "75%      18.000000     2.600000  1221.000000  -200.000000    13.600000   \n",
              "max      23.000000    11.900000  2040.000000  1189.000000    63.700000   \n",
              "\n",
              "       PT08.S2(NMHC)      NOx(GT)  PT08.S3(NOx)      NO2(GT)  PT08.S4(NO2)  \\\n",
              "count    9357.000000  9357.000000   9357.000000  9357.000000   9357.000000   \n",
              "mean      894.595276   168.616971    794.990168    58.148873   1391.479641   \n",
              "std       342.333252   257.433866    321.993552   126.940455    467.210125   \n",
              "min      -200.000000  -200.000000   -200.000000  -200.000000   -200.000000   \n",
              "25%       711.000000    50.000000    637.000000    53.000000   1185.000000   \n",
              "50%       895.000000   141.000000    794.000000    96.000000   1446.000000   \n",
              "75%      1105.000000   284.000000    960.000000   133.000000   1662.000000   \n",
              "max      2214.000000  1479.000000   2683.000000   340.000000   2775.000000   \n",
              "\n",
              "       PT08.S5(O3)            T           RH           AH  \n",
              "count  9357.000000  9357.000000  9357.000000  9357.000000  \n",
              "mean    975.072032     9.778305    39.485380    -6.837604  \n",
              "std     456.938184    43.203623    51.216145    38.976670  \n",
              "min    -200.000000  -200.000000  -200.000000  -200.000000  \n",
              "25%     700.000000    10.900000    34.100000     0.692300  \n",
              "50%     942.000000    17.200000    48.600000     0.976800  \n",
              "75%    1255.000000    24.100000    61.900000     1.296200  \n",
              "max    2523.000000    44.600000    88.700000     2.231000  "
            ]
          },
          "metadata": {
            "tags": []
          },
          "execution_count": 45
        }
      ]
    },
    {
      "cell_type": "markdown",
      "metadata": {
        "id": "sIkpMw2Kr4RS",
        "colab_type": "text"
      },
      "source": [
        "* Each attribute is having -200 as minimum value. \n",
        "* After checking for every attributes it is imposibble it to have minus value except T (Temperature). But, it's impossible too if the Temperature -200, because this case will be about High pollution in the air.\n",
        "* So here we are considering -200 as NaN value."
      ]
    },
    {
      "cell_type": "markdown",
      "metadata": {
        "id": "lSMPjvsRYOaZ",
        "colab_type": "text"
      },
      "source": [
        "**Replacing -200 with NaN(null value):**"
      ]
    },
    {
      "cell_type": "code",
      "metadata": {
        "id": "aCft3z2FTsw3",
        "colab_type": "code",
        "colab": {}
      },
      "source": [
        "dataset.replace(to_replace= -200, value= np.NaN, inplace= True)"
      ],
      "execution_count": 0,
      "outputs": []
    },
    {
      "cell_type": "markdown",
      "metadata": {
        "id": "tzKWy3FlYYKS",
        "colab_type": "text"
      },
      "source": [
        "**Now again checking the total number of NaN values in the dataset:**"
      ]
    },
    {
      "cell_type": "code",
      "metadata": {
        "id": "nhc9fikHYChU",
        "colab_type": "code",
        "outputId": "d6793b83-c0a5-4915-da09-a74974b2fcc8",
        "colab": {
          "base_uri": "https://localhost:8080/",
          "height": 276
        }
      },
      "source": [
        "dataset.isnull().sum()"
      ],
      "execution_count": 47,
      "outputs": [
        {
          "output_type": "execute_result",
          "data": {
            "text/plain": [
              "Time                0\n",
              "CO(GT)           1683\n",
              "PT08.S1(CO)       366\n",
              "NMHC(GT)         8443\n",
              "C6H6(GT)          366\n",
              "PT08.S2(NMHC)     366\n",
              "NOx(GT)          1639\n",
              "PT08.S3(NOx)      366\n",
              "NO2(GT)          1642\n",
              "PT08.S4(NO2)      366\n",
              "PT08.S5(O3)       366\n",
              "T                 366\n",
              "RH                366\n",
              "AH                366\n",
              "dtype: int64"
            ]
          },
          "metadata": {
            "tags": []
          },
          "execution_count": 47
        }
      ]
    },
    {
      "cell_type": "markdown",
      "metadata": {
        "id": "SiHsXnPxDuRt",
        "colab_type": "text"
      },
      "source": [
        "So there are null values present in the dataset."
      ]
    },
    {
      "cell_type": "code",
      "metadata": {
        "id": "0sHJIneHsbiu",
        "colab_type": "code",
        "outputId": "8c7f4410-7f65-4b9e-c760-152f13f32309",
        "colab": {
          "base_uri": "https://localhost:8080/",
          "height": 562
        }
      },
      "source": [
        "plt.figure(figsize=(10,8))\n",
        "sns.heatmap(dataset.isnull(),yticklabels=False,cbar=False,cmap='viridis')\n",
        "plt.show()"
      ],
      "execution_count": 48,
      "outputs": [
        {
          "output_type": "display_data",
          "data": {
            "image/png": "[encoded data removed]",
            "text/plain": [
              "<Figure size 720x576 with 1 Axes>"
            ]
          },
          "metadata": {
            "tags": []
          }
        }
      ]
    },
    {
      "cell_type": "markdown",
      "metadata": {
        "id": "9YukT3EttkEh",
        "colab_type": "text"
      },
      "source": [
        "As from above we can see that the attribute name NMHC(GT) is containing maximum null values in it. So we will drop it permanentely."
      ]
    },
    {
      "cell_type": "markdown",
      "metadata": {
        "id": "LOk3dDfC0GMp",
        "colab_type": "text"
      },
      "source": [
        "**Dropping the column name NMHC(GT):**"
      ]
    },
    {
      "cell_type": "code",
      "metadata": {
        "id": "hONDqQh6lz_j",
        "colab_type": "code",
        "colab": {}
      },
      "source": [
        "dataset.drop('NMHC(GT)', axis=1, inplace=True)"
      ],
      "execution_count": 0,
      "outputs": []
    },
    {
      "cell_type": "code",
      "metadata": {
        "id": "pymmsQjCwAij",
        "colab_type": "code",
        "outputId": "da1652eb-f4c8-4db8-88b5-3132f2af0684",
        "colab": {
          "base_uri": "https://localhost:8080/",
          "height": 562
        }
      },
      "source": [
        "plt.figure(figsize=(10,8))\n",
        "sns.heatmap(dataset.isnull(),yticklabels=False,cbar=False,cmap='viridis')\n",
        "plt.show()"
      ],
      "execution_count": 50,
      "outputs": [
        {
          "output_type": "display_data",
          "data": {
            "image/png": "[encoded data removed]",
            "text/plain": [
              "<Figure size 720x576 with 1 Axes>"
            ]
          },
          "metadata": {
            "tags": []
          }
        }
      ]
    },
    {
      "cell_type": "markdown",
      "metadata": {
        "id": "2PfVD91h8_JQ",
        "colab_type": "text"
      },
      "source": [
        "We've dropped the column that contains maximum number of null values. But still there are null values in our dataset."
      ]
    },
    {
      "cell_type": "code",
      "metadata": {
        "id": "L4DD50WYBAMi",
        "colab_type": "code",
        "colab": {}
      },
      "source": [
        "def remove_outlier(col):\n",
        "    dataset[col] = dataset.groupby('Date')[col].transform(lambda x: x.fillna(x.median()))"
      ],
      "execution_count": 0,
      "outputs": []
    },
    {
      "cell_type": "markdown",
      "metadata": {
        "id": "ZAHqmuKzhTPo",
        "colab_type": "text"
      },
      "source": [
        "**Replacing the Null value with median.**"
      ]
    },
    {
      "cell_type": "code",
      "metadata": {
        "id": "hgiT-FUIOavF",
        "colab_type": "code",
        "outputId": "c4740597-98ea-41ac-df82-8a47cff74dfa",
        "colab": {
          "base_uri": "https://localhost:8080/",
          "height": 266
        }
      },
      "source": [
        "dataset.median()"
      ],
      "execution_count": 0,
      "outputs": [
        {
          "output_type": "execute_result",
          "data": {
            "text/plain": [
              "Time               11.0000\n",
              "CO(GT)              1.8000\n",
              "PT08.S1(CO)      1063.0000\n",
              "C6H6(GT)            8.2000\n",
              "PT08.S2(NMHC)     909.0000\n",
              "NOx(GT)           180.0000\n",
              "PT08.S3(NOx)      806.0000\n",
              "NO2(GT)           109.0000\n",
              "PT08.S4(NO2)     1463.0000\n",
              "PT08.S5(O3)       963.0000\n",
              "T                  17.8000\n",
              "RH                 49.6000\n",
              "AH                  0.9954\n",
              "dtype: float64"
            ]
          },
          "metadata": {
            "tags": []
          },
          "execution_count": 19
        }
      ]
    },
    {
      "cell_type": "code",
      "metadata": {
        "id": "KJ6Dp9KrYGsS",
        "colab_type": "code",
        "outputId": "2376da04-fc77-4af9-a3fe-9f42839ce89b",
        "colab": {
          "base_uri": "https://localhost:8080/",
          "height": 286
        }
      },
      "source": [
        "dataset.fillna(dataset.median(), inplace=True)\n",
        "sns.distplot(dataset['NOx(GT)'])\n",
        "plt.show()"
      ],
      "execution_count": 53,
      "outputs": [
        {
          "output_type": "display_data",
          "data": {
            "image/png": "[encoded data removed]",
            "text/plain": [
              "<Figure size 432x288 with 1 Axes>"
            ]
          },
          "metadata": {
            "tags": []
          }
        }
      ]
    },
    {
      "cell_type": "code",
      "metadata": {
        "id": "O7ajNN-9ZP1c",
        "colab_type": "code",
        "colab": {
          "base_uri": "https://localhost:8080/",
          "height": 285
        },
        "outputId": "2dec181c-2973-4399-e8a8-aefd2550faa9"
      },
      "source": [
        "sns.distplot(np.log(dataset['NOx(GT)']))\n",
        "plt.show()"
      ],
      "execution_count": 54,
      "outputs": [
        {
          "output_type": "display_data",
          "data": {
            "image/png": "[encoded data removed]",
            "text/plain": [
              "<Figure size 432x288 with 1 Axes>"
            ]
          },
          "metadata": {
            "tags": []
          }
        }
      ]
    },
    {
      "cell_type": "markdown",
      "metadata": {
        "id": "Ym6ZA2Ts1Ucu",
        "colab_type": "text"
      },
      "source": [
        "**Checking the null values again after replacing the null values by median:**"
      ]
    },
    {
      "cell_type": "code",
      "metadata": {
        "id": "Dn08zQRHZB4y",
        "colab_type": "code",
        "outputId": "e882df6c-bb21-4f5b-9994-713c7ed967ce",
        "colab": {
          "base_uri": "https://localhost:8080/",
          "height": 266
        }
      },
      "source": [
        "dataset.isnull().sum()"
      ],
      "execution_count": 0,
      "outputs": [
        {
          "output_type": "execute_result",
          "data": {
            "text/plain": [
              "Time             0\n",
              "CO(GT)           0\n",
              "PT08.S1(CO)      0\n",
              "C6H6(GT)         0\n",
              "PT08.S2(NMHC)    0\n",
              "NOx(GT)          0\n",
              "PT08.S3(NOx)     0\n",
              "NO2(GT)          0\n",
              "PT08.S4(NO2)     0\n",
              "PT08.S5(O3)      0\n",
              "T                0\n",
              "RH               0\n",
              "AH               0\n",
              "dtype: int64"
            ]
          },
          "metadata": {
            "tags": []
          },
          "execution_count": 21
        }
      ]
    },
    {
      "cell_type": "markdown",
      "metadata": {
        "id": "UMu9Z-Uu1ft3",
        "colab_type": "text"
      },
      "source": [
        "As we can see, there are 0 null value in each column."
      ]
    },
    {
      "cell_type": "markdown",
      "metadata": {
        "id": "uZ3ABNlv1nC0",
        "colab_type": "text"
      },
      "source": [
        "**Checking the description of the dataset again:**"
      ]
    },
    {
      "cell_type": "code",
      "metadata": {
        "id": "q-Gx7pmAgnq2",
        "colab_type": "code",
        "outputId": "080598d8-4623-4023-f8b3-4d5fc668d23e",
        "colab": {
          "base_uri": "https://localhost:8080/",
          "height": 306
        }
      },
      "source": [
        "dataset.describe()"
      ],
      "execution_count": 0,
      "outputs": [
        {
          "output_type": "execute_result",
          "data": {
            "text/html": [
              "<div>\n",
              "<style scoped>\n",
              "    .dataframe tbody tr th:only-of-type {\n",
              "        vertical-align: middle;\n",
              "    }\n",
              "\n",
              "    .dataframe tbody tr th {\n",
              "        vertical-align: top;\n",
              "    }\n",
              "\n",
              "    .dataframe thead th {\n",
              "        text-align: right;\n",
              "    }\n",
              "</style>\n",
              "<table border=\"1\" class=\"dataframe\">\n",
              "  <thead>\n",
              "    <tr style=\"text-align: right;\">\n",
              "      <th></th>\n",
              "      <th>Time</th>\n",
              "      <th>CO(GT)</th>\n",
              "      <th>PT08.S1(CO)</th>\n",
              "      <th>C6H6(GT)</th>\n",
              "      <th>PT08.S2(NMHC)</th>\n",
              "      <th>NOx(GT)</th>\n",
              "      <th>PT08.S3(NOx)</th>\n",
              "      <th>NO2(GT)</th>\n",
              "      <th>PT08.S4(NO2)</th>\n",
              "      <th>PT08.S5(O3)</th>\n",
              "      <th>T</th>\n",
              "      <th>RH</th>\n",
              "      <th>AH</th>\n",
              "    </tr>\n",
              "  </thead>\n",
              "  <tbody>\n",
              "    <tr>\n",
              "      <th>count</th>\n",
              "      <td>9357.000000</td>\n",
              "      <td>9357.000000</td>\n",
              "      <td>9357.000000</td>\n",
              "      <td>9357.000000</td>\n",
              "      <td>9357.000000</td>\n",
              "      <td>9357.000000</td>\n",
              "      <td>9357.000000</td>\n",
              "      <td>9357.000000</td>\n",
              "      <td>9357.000000</td>\n",
              "      <td>9357.000000</td>\n",
              "      <td>9357.000000</td>\n",
              "      <td>9357.000000</td>\n",
              "      <td>9357.000000</td>\n",
              "    </tr>\n",
              "    <tr>\n",
              "      <th>mean</th>\n",
              "      <td>11.498557</td>\n",
              "      <td>2.089302</td>\n",
              "      <td>1098.392433</td>\n",
              "      <td>10.009447</td>\n",
              "      <td>937.973923</td>\n",
              "      <td>235.178903</td>\n",
              "      <td>834.339959</td>\n",
              "      <td>112.373303</td>\n",
              "      <td>1456.528054</td>\n",
              "      <td>1020.562894</td>\n",
              "      <td>18.297574</td>\n",
              "      <td>49.248509</td>\n",
              "      <td>1.024352</td>\n",
              "    </tr>\n",
              "    <tr>\n",
              "      <th>std</th>\n",
              "      <td>6.923182</td>\n",
              "      <td>1.323024</td>\n",
              "      <td>212.911465</td>\n",
              "      <td>7.311771</td>\n",
              "      <td>261.625561</td>\n",
              "      <td>195.091025</td>\n",
              "      <td>251.808888</td>\n",
              "      <td>43.948519</td>\n",
              "      <td>339.370072</td>\n",
              "      <td>390.784960</td>\n",
              "      <td>8.658221</td>\n",
              "      <td>16.974949</td>\n",
              "      <td>0.395878</td>\n",
              "    </tr>\n",
              "    <tr>\n",
              "      <th>min</th>\n",
              "      <td>0.000000</td>\n",
              "      <td>0.100000</td>\n",
              "      <td>647.000000</td>\n",
              "      <td>0.100000</td>\n",
              "      <td>383.000000</td>\n",
              "      <td>2.000000</td>\n",
              "      <td>322.000000</td>\n",
              "      <td>2.000000</td>\n",
              "      <td>551.000000</td>\n",
              "      <td>221.000000</td>\n",
              "      <td>-1.900000</td>\n",
              "      <td>9.200000</td>\n",
              "      <td>0.184700</td>\n",
              "    </tr>\n",
              "    <tr>\n",
              "      <th>25%</th>\n",
              "      <td>5.000000</td>\n",
              "      <td>1.200000</td>\n",
              "      <td>941.000000</td>\n",
              "      <td>4.600000</td>\n",
              "      <td>743.000000</td>\n",
              "      <td>112.000000</td>\n",
              "      <td>666.000000</td>\n",
              "      <td>86.000000</td>\n",
              "      <td>1242.000000</td>\n",
              "      <td>742.000000</td>\n",
              "      <td>12.000000</td>\n",
              "      <td>36.600000</td>\n",
              "      <td>0.746100</td>\n",
              "    </tr>\n",
              "    <tr>\n",
              "      <th>50%</th>\n",
              "      <td>11.000000</td>\n",
              "      <td>1.800000</td>\n",
              "      <td>1063.000000</td>\n",
              "      <td>8.200000</td>\n",
              "      <td>909.000000</td>\n",
              "      <td>180.000000</td>\n",
              "      <td>806.000000</td>\n",
              "      <td>109.000000</td>\n",
              "      <td>1463.000000</td>\n",
              "      <td>963.000000</td>\n",
              "      <td>17.800000</td>\n",
              "      <td>49.600000</td>\n",
              "      <td>0.995400</td>\n",
              "    </tr>\n",
              "    <tr>\n",
              "      <th>75%</th>\n",
              "      <td>18.000000</td>\n",
              "      <td>2.600000</td>\n",
              "      <td>1221.000000</td>\n",
              "      <td>13.600000</td>\n",
              "      <td>1105.000000</td>\n",
              "      <td>284.000000</td>\n",
              "      <td>960.000000</td>\n",
              "      <td>133.000000</td>\n",
              "      <td>1662.000000</td>\n",
              "      <td>1255.000000</td>\n",
              "      <td>24.100000</td>\n",
              "      <td>61.900000</td>\n",
              "      <td>1.296200</td>\n",
              "    </tr>\n",
              "    <tr>\n",
              "      <th>max</th>\n",
              "      <td>23.000000</td>\n",
              "      <td>11.900000</td>\n",
              "      <td>2040.000000</td>\n",
              "      <td>63.700000</td>\n",
              "      <td>2214.000000</td>\n",
              "      <td>1479.000000</td>\n",
              "      <td>2683.000000</td>\n",
              "      <td>340.000000</td>\n",
              "      <td>2775.000000</td>\n",
              "      <td>2523.000000</td>\n",
              "      <td>44.600000</td>\n",
              "      <td>88.700000</td>\n",
              "      <td>2.231000</td>\n",
              "    </tr>\n",
              "  </tbody>\n",
              "</table>\n",
              "</div>"
            ],
            "text/plain": [
              "              Time       CO(GT)  ...           RH           AH\n",
              "count  9357.000000  9357.000000  ...  9357.000000  9357.000000\n",
              "mean     11.498557     2.089302  ...    49.248509     1.024352\n",
              "std       6.923182     1.323024  ...    16.974949     0.395878\n",
              "min       0.000000     0.100000  ...     9.200000     0.184700\n",
              "25%       5.000000     1.200000  ...    36.600000     0.746100\n",
              "50%      11.000000     1.800000  ...    49.600000     0.995400\n",
              "75%      18.000000     2.600000  ...    61.900000     1.296200\n",
              "max      23.000000    11.900000  ...    88.700000     2.231000\n",
              "\n",
              "[8 rows x 13 columns]"
            ]
          },
          "metadata": {
            "tags": []
          },
          "execution_count": 22
        }
      ]
    },
    {
      "cell_type": "markdown",
      "metadata": {
        "id": "Vw1zsq3p1_Rp",
        "colab_type": "text"
      },
      "source": [
        "* From the above description, we can see the minimum & maximum value, count, standard deviation, mean, median of each column in the dataset.\n",
        "* We can also predict the skewness of the dataset by comparing the mean and median value."
      ]
    },
    {
      "cell_type": "code",
      "metadata": {
        "id": "cdCSblLD1_2Z",
        "colab_type": "code",
        "outputId": "a249c9b4-7b49-4cd6-e408-e79d4faf9eaa",
        "colab": {
          "base_uri": "https://localhost:8080/",
          "height": 421
        }
      },
      "source": [
        "\n",
        "dataset.drop(['Time','RH','AH','T'], axis=1).resample('M').mean().plot(figsize=(16,6))\n",
        "plt.legend(loc=1)\n",
        "plt.xlabel('Month')\n",
        "plt.ylabel('All Toxic Gases in the Air')\n",
        "plt.title(\"All Toxic Gases' Frequency by Month\")\n",
        "plt.show()"
      ],
      "execution_count": 82,
      "outputs": [
        {
          "output_type": "display_data",
          "data": {
            "image/png": "[encoded data removed]",
            "text/plain": [
              "<Figure size 1152x432 with 1 Axes>"
            ]
          },
          "metadata": {
            "tags": []
          }
        }
      ]
    },
    {
      "cell_type": "markdown",
      "metadata": {
        "id": "SjYPND8r2H4l",
        "colab_type": "text"
      },
      "source": [
        "In the above graph, you can see the frequency of all toxics that is usually in polluted air. The Brown line shows Nitrogen Oxides (NOx) and Yellow line shows NO2 which is part of NOx. It is a mixture of gases are composed of nitrogen and oxygen. Two of the most toxicologically significant compounds are nitric oxide (NO) and nitrogen dioxide (NO2). I chose Nitrogen Oxides(NOx) because these are one of the most dangerous forms of air pollution and are most relevant for air pollution. However, There are many others ways to measure air pollution, including PM10 (particulate matter around between 2.5 and 10 microns in diameter), carbon monoxide, sulfur dioxide, nitrogen dioxide, ozone (O3), etc.\n",
        "\n",
        "NOx is produced from the reaction of nitrogen and oxygen gases in the air during combustion, especially at high temperatures. In areas of high motor vehicle traffic, such as in large cities, the amount of nitrogen oxides emitted into the atmosphere as air pollution can be significant.\n",
        "\n",
        "It is mainly due to fossil fuel combustion from both stationary sources, i.e. power generation (21%), and mobile sources, i.e. transport (44%). Other atmospheric contributions come from non-combustion processes, for example nitric acid manufacture, welding processes and the use of explosives.\n",
        "\n",
        "In addition, these create serious health issues. These mainly impact on respiratory conditions causing inflammation of the airways at high levels. Long term exposure can decrease lung function, increase the risk of respiratory conditions and increases the response to allergens. NOx also contributes to the formation of fine particles (PM) and ground level ozone, both of which are associated with adverse health effects.\n",
        "\n",
        "Ref: https://www.epa.gov/no2-pollution/basic-information-about-no2#Effects"
      ]
    },
    {
      "cell_type": "markdown",
      "metadata": {
        "id": "uJSWiX0_mixu",
        "colab_type": "text"
      },
      "source": [
        "## **Machine Learning**"
      ]
    },
    {
      "cell_type": "markdown",
      "metadata": {
        "id": "AO2Ayw66mrkj",
        "colab_type": "text"
      },
      "source": [
        "### **Linear Regression without outliers**"
      ]
    },
    {
      "cell_type": "code",
      "metadata": {
        "colab_type": "code",
        "id": "tQqn4TlGk-Kh",
        "colab": {}
      },
      "source": [
        "X=dataset[['CO(GT)', 'PT08.S1(CO)', 'C6H6(GT)', 'PT08.S2(NMHC)', 'NO2(GT)', 'PT08.S3(NOx)', 'PT08.S4(NO2)', 'PT08.S5(O3)', 'RH', 'AH']]\n",
        "X = np.log(X)\n",
        "y=dataset['NOx(GT)']\n",
        "y = np.log(y)"
      ],
      "execution_count": 0,
      "outputs": []
    },
    {
      "cell_type": "code",
      "metadata": {
        "colab_type": "code",
        "outputId": "6ef2e8f1-fd41-43b7-8d7f-a43877e7037e",
        "id": "6XLAacQCk-Kp",
        "colab": {
          "base_uri": "https://localhost:8080/",
          "height": 302
        }
      },
      "source": [
        "sns.distplot(y)"
      ],
      "execution_count": 302,
      "outputs": [
        {
          "output_type": "execute_result",
          "data": {
            "text/plain": [
              "<matplotlib.axes._subplots.AxesSubplot at 0x7f9c446b8ba8>"
            ]
          },
          "metadata": {
            "tags": []
          },
          "execution_count": 302
        },
        {
          "output_type": "display_data",
          "data": {
            "image/png": "[encoded data removed]",
            "text/plain": [
              "<Figure size 432x288 with 1 Axes>"
            ]
          },
          "metadata": {
            "tags": []
          }
        }
      ]
    },
    {
      "cell_type": "markdown",
      "metadata": {
        "id": "-OpEusrD250X",
        "colab_type": "text"
      },
      "source": [
        "Nitrc oxide is normally distributed. With the help of log transformation we are passing the linearty and homosedastisity assumptions."
      ]
    },
    {
      "cell_type": "markdown",
      "metadata": {
        "id": "sx9FpPfH0vem",
        "colab_type": "text"
      },
      "source": [
        "**Train Test Split**"
      ]
    },
    {
      "cell_type": "code",
      "metadata": {
        "colab_type": "code",
        "id": "233QzIwbk-Kx",
        "colab": {}
      },
      "source": [
        "from sklearn.model_selection import train_test_split\n",
        "X_train,X_test,y_train,y_test = train_test_split(X, y, test_size=0.30, random_state=0)"
      ],
      "execution_count": 0,
      "outputs": []
    },
    {
      "cell_type": "markdown",
      "metadata": {
        "id": "l7eaGues0079",
        "colab_type": "text"
      },
      "source": [
        "**Feature Scaling**"
      ]
    },
    {
      "cell_type": "code",
      "metadata": {
        "id": "Xvrb_-KTnWFU",
        "colab_type": "code",
        "colab": {}
      },
      "source": [
        "from sklearn.preprocessing import MinMaxScaler\n",
        "sc=MinMaxScaler()\n",
        "X_train=sc.fit_transform(X_train)\n",
        "X_test=sc.transform(X_test)"
      ],
      "execution_count": 0,
      "outputs": []
    },
    {
      "cell_type": "markdown",
      "metadata": {
        "id": "Faatao2a06EH",
        "colab_type": "text"
      },
      "source": [
        "We have used robust scaler because there are outliers in our data."
      ]
    },
    {
      "cell_type": "markdown",
      "metadata": {
        "id": "nCZh7TYQ1H7n",
        "colab_type": "text"
      },
      "source": [
        "**Fitting the model**"
      ]
    },
    {
      "cell_type": "code",
      "metadata": {
        "colab_type": "code",
        "outputId": "bc295610-9d1e-48ec-8476-234ada1621eb",
        "id": "XXqMe42Ck-K0",
        "colab": {
          "base_uri": "https://localhost:8080/",
          "height": 34
        }
      },
      "source": [
        "from sklearn.linear_model import LinearRegression\n",
        "lreg=LinearRegression()\n",
        "lreg.fit(X_train,y_train)"
      ],
      "execution_count": 305,
      "outputs": [
        {
          "output_type": "execute_result",
          "data": {
            "text/plain": [
              "LinearRegression(copy_X=True, fit_intercept=True, n_jobs=None, normalize=False)"
            ]
          },
          "metadata": {
            "tags": []
          },
          "execution_count": 305
        }
      ]
    },
    {
      "cell_type": "markdown",
      "metadata": {
        "id": "xNZ0Rc2l1LvL",
        "colab_type": "text"
      },
      "source": [
        "**Prediction**"
      ]
    },
    {
      "cell_type": "code",
      "metadata": {
        "colab_type": "code",
        "id": "hcdwS_SZk-K4",
        "colab": {}
      },
      "source": [
        "y_predict=lreg.predict(X_test)"
      ],
      "execution_count": 0,
      "outputs": []
    },
    {
      "cell_type": "code",
      "metadata": {
        "colab_type": "code",
        "outputId": "cf4717fe-87b9-4267-cc3f-f32a6657299b",
        "id": "lbLg8TkCk-K7",
        "colab": {
          "base_uri": "https://localhost:8080/",
          "height": 34
        }
      },
      "source": [
        "from sklearn.metrics import r2_score\n",
        "r2score_lreg=r2_score(y_test,y_predict)\n",
        "r2score_lreg"
      ],
      "execution_count": 307,
      "outputs": [
        {
          "output_type": "execute_result",
          "data": {
            "text/plain": [
              "0.8644672557874544"
            ]
          },
          "metadata": {
            "tags": []
          },
          "execution_count": 307
        }
      ]
    },
    {
      "cell_type": "markdown",
      "metadata": {
        "id": "mE8PcCyf_htT",
        "colab_type": "text"
      },
      "source": [
        "**Accuracy on training data**"
      ]
    },
    {
      "cell_type": "code",
      "metadata": {
        "id": "5AoIZaTw_htW",
        "colab_type": "code",
        "colab": {}
      },
      "source": [
        "prediction = lreg.predict(X_train)"
      ],
      "execution_count": 0,
      "outputs": []
    },
    {
      "cell_type": "code",
      "metadata": {
        "id": "0k0f6IRO_htg",
        "colab_type": "code",
        "outputId": "0d851977-d324-4a3c-f394-f394d342b86c",
        "colab": {
          "base_uri": "https://localhost:8080/",
          "height": 34
        }
      },
      "source": [
        "score_train = lreg.score(X_train, y_train)\n",
        "score_train"
      ],
      "execution_count": 309,
      "outputs": [
        {
          "output_type": "execute_result",
          "data": {
            "text/plain": [
              "0.8699066028475861"
            ]
          },
          "metadata": {
            "tags": []
          },
          "execution_count": 309
        }
      ]
    },
    {
      "cell_type": "markdown",
      "metadata": {
        "id": "mtUgw7wW_htm",
        "colab_type": "text"
      },
      "source": [
        "**Accuracy on Test Data**"
      ]
    },
    {
      "cell_type": "code",
      "metadata": {
        "id": "P_MgrVTm_htn",
        "colab_type": "code",
        "colab": {}
      },
      "source": [
        "prediction = lreg.predict(X_test)"
      ],
      "execution_count": 0,
      "outputs": []
    },
    {
      "cell_type": "code",
      "metadata": {
        "id": "x6I_Zw1E_htr",
        "colab_type": "code",
        "outputId": "0ef717f3-5945-4bca-977f-8609df6c4494",
        "colab": {
          "base_uri": "https://localhost:8080/",
          "height": 34
        }
      },
      "source": [
        "score_test = lreg.score(X_test, y_test)\n",
        "score_test"
      ],
      "execution_count": 311,
      "outputs": [
        {
          "output_type": "execute_result",
          "data": {
            "text/plain": [
              "0.8644672557874544"
            ]
          },
          "metadata": {
            "tags": []
          },
          "execution_count": 311
        }
      ]
    },
    {
      "cell_type": "markdown",
      "metadata": {
        "id": "aC9cYR2H1e4S",
        "colab_type": "text"
      },
      "source": [
        "By this we can say that our model is not Bias because there's not so much difference between training and testing data."
      ]
    },
    {
      "cell_type": "markdown",
      "metadata": {
        "id": "7lio27_g_hwV",
        "colab_type": "text"
      },
      "source": [
        "### **K-Nearest Neighbor**"
      ]
    },
    {
      "cell_type": "code",
      "metadata": {
        "id": "Oxd5srd7_hwW",
        "colab_type": "code",
        "outputId": "597a2d95-bc85-4a98-a0f1-336766da7012",
        "colab": {
          "base_uri": "https://localhost:8080/",
          "height": 69
        }
      },
      "source": [
        "from sklearn.neighbors import KNeighborsRegressor\n",
        "kreg=KNeighborsRegressor(n_neighbors=5)\n",
        "kreg.fit(X_train,y_train)"
      ],
      "execution_count": 312,
      "outputs": [
        {
          "output_type": "execute_result",
          "data": {
            "text/plain": [
              "KNeighborsRegressor(algorithm='auto', leaf_size=30, metric='minkowski',\n",
              "                    metric_params=None, n_jobs=None, n_neighbors=5, p=2,\n",
              "                    weights='uniform')"
            ]
          },
          "metadata": {
            "tags": []
          },
          "execution_count": 312
        }
      ]
    },
    {
      "cell_type": "code",
      "metadata": {
        "id": "isbayodo_hwe",
        "colab_type": "code",
        "colab": {}
      },
      "source": [
        "y_predict_knn=kreg.predict(X_test)"
      ],
      "execution_count": 0,
      "outputs": []
    },
    {
      "cell_type": "code",
      "metadata": {
        "id": "v7ILihCK_hwg",
        "colab_type": "code",
        "outputId": "757210c3-39fb-43b1-cae1-6a30a53da072",
        "colab": {
          "base_uri": "https://localhost:8080/",
          "height": 34
        }
      },
      "source": [
        "kreg_train = kreg.score(X_train,y_train)\n",
        "kreg_train"
      ],
      "execution_count": 314,
      "outputs": [
        {
          "output_type": "execute_result",
          "data": {
            "text/plain": [
              "0.954436049206"
            ]
          },
          "metadata": {
            "tags": []
          },
          "execution_count": 314
        }
      ]
    },
    {
      "cell_type": "code",
      "metadata": {
        "id": "-Q_Ig1ZP_hwi",
        "colab_type": "code",
        "outputId": "fd6752ec-fa4f-45df-a234-93b492e1af75",
        "colab": {
          "base_uri": "https://localhost:8080/",
          "height": 34
        }
      },
      "source": [
        "kreg_test = kreg.score(X_test,y_test)\n",
        "kreg_test"
      ],
      "execution_count": 315,
      "outputs": [
        {
          "output_type": "execute_result",
          "data": {
            "text/plain": [
              "0.9225097975893867"
            ]
          },
          "metadata": {
            "tags": []
          },
          "execution_count": 315
        }
      ]
    },
    {
      "cell_type": "markdown",
      "metadata": {
        "id": "V6TKM8l84K8p",
        "colab_type": "text"
      },
      "source": [
        "We can see that, the training and testng accuracy doesn't have ajor difference. Therefore, our model is not bias."
      ]
    },
    {
      "cell_type": "code",
      "metadata": {
        "id": "CA4cd1JLe0r0",
        "colab_type": "code",
        "outputId": "4dde2d8c-489b-4b43-fcf2-2baf72332676",
        "colab": {
          "base_uri": "https://localhost:8080/",
          "height": 285
        }
      },
      "source": [
        "sns.scatterplot(y_test, kreg.predict(X_test), alpha=0.2)\n",
        "plt.xlabel('Targets(y_test)')\n",
        "plt.ylabel('Predictions')\n",
        "plt.show()"
      ],
      "execution_count": 316,
      "outputs": [
        {
          "output_type": "display_data",
          "data": {
            "image/png": "[encoded data removed]",
            "text/plain": [
              "<Figure size 432x288 with 1 Axes>"
            ]
          },
          "metadata": {
            "tags": []
          }
        }
      ]
    },
    {
      "cell_type": "markdown",
      "metadata": {
        "id": "ps2GfnHa373p",
        "colab_type": "text"
      },
      "source": [
        "We can see that, the more closer the points gets to 45 degree the more accurate the predictions are."
      ]
    },
    {
      "cell_type": "markdown",
      "metadata": {
        "id": "9s8AWCRC_hwk",
        "colab_type": "text"
      },
      "source": [
        "### **Decision Tree Regressor**"
      ]
    },
    {
      "cell_type": "code",
      "metadata": {
        "id": "I7jiVnaE_hwl",
        "colab_type": "code",
        "outputId": "425252e3-239d-4365-8d7e-3f0d29a35525",
        "colab": {
          "base_uri": "https://localhost:8080/",
          "height": 121
        }
      },
      "source": [
        "from sklearn.tree import DecisionTreeRegressor\n",
        "dreg=DecisionTreeRegressor()\n",
        "dreg.fit(X_train,y_train)"
      ],
      "execution_count": 317,
      "outputs": [
        {
          "output_type": "execute_result",
          "data": {
            "text/plain": [
              "DecisionTreeRegressor(ccp_alpha=0.0, criterion='mse', max_depth=None,\n",
              "                      max_features=None, max_leaf_nodes=None,\n",
              "                      min_impurity_decrease=0.0, min_impurity_split=None,\n",
              "                      min_samples_leaf=1, min_samples_split=2,\n",
              "                      min_weight_fraction_leaf=0.0, presort='deprecated',\n",
              "                      random_state=None, splitter='best')"
            ]
          },
          "metadata": {
            "tags": []
          },
          "execution_count": 317
        }
      ]
    },
    {
      "cell_type": "code",
      "metadata": {
        "id": "GrXjbfgN_hwy",
        "colab_type": "code",
        "outputId": "b8d0fe55-8c3a-4473-8328-eecc83060890",
        "colab": {
          "base_uri": "https://localhost:8080/",
          "height": 34
        }
      },
      "source": [
        "dreg_train = dreg.score(X_train,y_train)\n",
        "dreg_train"
      ],
      "execution_count": 318,
      "outputs": [
        {
          "output_type": "execute_result",
          "data": {
            "text/plain": [
              "0.9995831136818056"
            ]
          },
          "metadata": {
            "tags": []
          },
          "execution_count": 318
        }
      ]
    },
    {
      "cell_type": "code",
      "metadata": {
        "scrolled": true,
        "id": "GZtUSsQK_hw0",
        "colab_type": "code",
        "outputId": "f1682382-9980-4ece-f6d0-c4ae7cee99c5",
        "colab": {
          "base_uri": "https://localhost:8080/",
          "height": 34
        }
      },
      "source": [
        "dreg_test = dreg.score(X_test,y_test)\n",
        "dreg_test"
      ],
      "execution_count": 319,
      "outputs": [
        {
          "output_type": "execute_result",
          "data": {
            "text/plain": [
              "0.8826384917074599"
            ]
          },
          "metadata": {
            "tags": []
          },
          "execution_count": 319
        }
      ]
    },
    {
      "cell_type": "markdown",
      "metadata": {
        "id": "RSPLT4GT5U5y",
        "colab_type": "text"
      },
      "source": [
        "There's some difference in training and testing data, therefore decision tree regressor is little bit bias."
      ]
    },
    {
      "cell_type": "code",
      "metadata": {
        "id": "ubg-8QJb_hw3",
        "colab_type": "code",
        "outputId": "f6a5a4bc-b876-4013-fc85-6a1800a0aad9",
        "colab": {
          "base_uri": "https://localhost:8080/",
          "height": 285
        }
      },
      "source": [
        "sns.scatterplot(y_test, dreg.predict(X_test), alpha=0.2)\n",
        "plt.xlabel('Targets(y_test)')\n",
        "plt.ylabel('Predictions')\n",
        "plt.show()"
      ],
      "execution_count": 320,
      "outputs": [
        {
          "output_type": "display_data",
          "data": {
            "image/png": "[encoded data removed]",
            "text/plain": [
              "<Figure size 432x288 with 1 Axes>"
            ]
          },
          "metadata": {
            "tags": []
          }
        }
      ]
    },
    {
      "cell_type": "markdown",
      "metadata": {
        "id": "5Wc8YAwT5lRk",
        "colab_type": "text"
      },
      "source": [
        "Because of bias, our model is performing little bit incorrectly at values 100 to 350 of training and testing."
      ]
    },
    {
      "cell_type": "markdown",
      "metadata": {
        "id": "P9vJ1Z5N_hw4",
        "colab_type": "text"
      },
      "source": [
        "### **Random Forest Regressor**"
      ]
    },
    {
      "cell_type": "code",
      "metadata": {
        "id": "KLb4WvBL_hw5",
        "colab_type": "code",
        "outputId": "04dd6618-4e43-47a5-d39b-c5e29428ad16",
        "colab": {
          "base_uri": "https://localhost:8080/",
          "height": 138
        }
      },
      "source": [
        "from sklearn.ensemble import RandomForestRegressor\n",
        "rfreg=RandomForestRegressor(n_estimators=10,random_state=42)\n",
        "rfreg.fit(X_train,y_train)"
      ],
      "execution_count": 321,
      "outputs": [
        {
          "output_type": "execute_result",
          "data": {
            "text/plain": [
              "RandomForestRegressor(bootstrap=True, ccp_alpha=0.0, criterion='mse',\n",
              "                      max_depth=None, max_features='auto', max_leaf_nodes=None,\n",
              "                      max_samples=None, min_impurity_decrease=0.0,\n",
              "                      min_impurity_split=None, min_samples_leaf=1,\n",
              "                      min_samples_split=2, min_weight_fraction_leaf=0.0,\n",
              "                      n_estimators=10, n_jobs=None, oob_score=False,\n",
              "                      random_state=42, verbose=0, warm_start=False)"
            ]
          },
          "metadata": {
            "tags": []
          },
          "execution_count": 321
        }
      ]
    },
    {
      "cell_type": "code",
      "metadata": {
        "id": "ICQP2FGF_hw_",
        "colab_type": "code",
        "outputId": "0e422369-e953-4add-ebbe-ebb3547d9b1b",
        "colab": {
          "base_uri": "https://localhost:8080/",
          "height": 52
        }
      },
      "source": [
        "rfreg.predict(X_test)"
      ],
      "execution_count": 322,
      "outputs": [
        {
          "output_type": "execute_result",
          "data": {
            "text/plain": [
              "array([4.47748472, 4.76982812, 3.69262267, ..., 5.19296275, 5.51719423,\n",
              "       5.16994915])"
            ]
          },
          "metadata": {
            "tags": []
          },
          "execution_count": 322
        }
      ]
    },
    {
      "cell_type": "code",
      "metadata": {
        "id": "HO5QSTLH_hxA",
        "colab_type": "code",
        "outputId": "491ad8de-abbd-4794-a7e1-3407c26f7abf",
        "colab": {
          "base_uri": "https://localhost:8080/",
          "height": 34
        }
      },
      "source": [
        "rfreg_train = rfreg.score(X_train,y_train)\n",
        "rfreg_train"
      ],
      "execution_count": 323,
      "outputs": [
        {
          "output_type": "execute_result",
          "data": {
            "text/plain": [
              "0.9884801463742947"
            ]
          },
          "metadata": {
            "tags": []
          },
          "execution_count": 323
        }
      ]
    },
    {
      "cell_type": "code",
      "metadata": {
        "id": "cLvscPr7_hxD",
        "colab_type": "code",
        "outputId": "84467717-c4ba-4533-b91a-b093f0549a00",
        "colab": {
          "base_uri": "https://localhost:8080/",
          "height": 34
        }
      },
      "source": [
        "rfreg_test = rfreg.score(X_test,y_test)\n",
        "rfreg_test"
      ],
      "execution_count": 324,
      "outputs": [
        {
          "output_type": "execute_result",
          "data": {
            "text/plain": [
              "0.9357737269667997"
            ]
          },
          "metadata": {
            "tags": []
          },
          "execution_count": 324
        }
      ]
    },
    {
      "cell_type": "markdown",
      "metadata": {
        "id": "veMgWdYx5-eQ",
        "colab_type": "text"
      },
      "source": [
        "Our model is good but its showing little bias."
      ]
    },
    {
      "cell_type": "code",
      "metadata": {
        "id": "DejJAuAZd5I3",
        "colab_type": "code",
        "outputId": "f6b52301-7d5b-4de3-ce29-4bb95aebddc5",
        "colab": {
          "base_uri": "https://localhost:8080/",
          "height": 285
        }
      },
      "source": [
        "sns.scatterplot(y_test, rfreg.predict(X_test), alpha=0.2)\n",
        "plt.xlabel('Targets(y_test)')\n",
        "plt.ylabel('Predictions')\n",
        "plt.show()"
      ],
      "execution_count": 325,
      "outputs": [
        {
          "output_type": "display_data",
          "data": {
            "image/png": "[encoded data removed]",
            "text/plain": [
              "<Figure size 432x288 with 1 Axes>"
            ]
          },
          "metadata": {
            "tags": []
          }
        }
      ]
    },
    {
      "cell_type": "markdown",
      "metadata": {
        "id": "zP6FMqMF6HI1",
        "colab_type": "text"
      },
      "source": [
        "**Hyperparameter Tuning**"
      ]
    },
    {
      "cell_type": "code",
      "metadata": {
        "id": "lrzF6QVTTytq",
        "colab_type": "code",
        "outputId": "2b0fef64-654a-411e-fe77-af44306c1379",
        "colab": {
          "base_uri": "https://localhost:8080/",
          "height": 34
        }
      },
      "source": [
        "from scipy.stats import uniform\n",
        "from scipy.stats import norm\n",
        "from sklearn.model_selection import RandomizedSearchCV\n",
        "from sklearn import metrics\n",
        " \n",
        "# Designate distributions to sample hyperparameters from \n",
        "n_estimators = np.random.uniform(10, 100, 5).astype(int)\n",
        "max_features = np.random.normal(6, 3, 5).astype(int)\n",
        " \n",
        "# Check max_features>0 & max_features<=total number of features\n",
        "max_features[max_features <= 0] = 1\n",
        "max_features[max_features > X.shape[1]] = X.shape[1]\n",
        " \n",
        "hyperparameters = {'n_estimators': list(n_estimators),\n",
        "                   'max_features': list(max_features),\n",
        "                   }\n",
        " \n",
        "print (hyperparameters)"
      ],
      "execution_count": 326,
      "outputs": [
        {
          "output_type": "stream",
          "text": [
            "{'n_estimators': [59, 87, 73, 37, 85], 'max_features': [1, 2, 6, 7, 1]}\n"
          ],
          "name": "stdout"
        }
      ]
    },
    {
      "cell_type": "code",
      "metadata": {
        "id": "iVWu2oPpTyo9",
        "colab_type": "code",
        "outputId": "eec9d362-2198-402a-e47e-2791c7155034",
        "colab": {
          "base_uri": "https://localhost:8080/",
          "height": 69
        }
      },
      "source": [
        "# Run randomized search\n",
        "randomCV = RandomizedSearchCV(RandomForestRegressor(), param_distributions=hyperparameters, n_iter=20)\n",
        "randomCV.fit(X_train, y_train)\n",
        " \n",
        "# Identify optimal hyperparameter values\n",
        "best_n_estim      = randomCV.best_params_['n_estimators']\n",
        "best_max_features = randomCV.best_params_['max_features']  \n",
        " \n",
        "print(\"The best performing n_estimators value is: {:5d}\".format(best_n_estim))\n",
        "print(\"The best performing max_features value is: {:5d}\".format(best_max_features))\n",
        " \n",
        "# Train classifier using optimal hyperparameter values\n",
        "# We could have also gotten this model out from randomCV.best_estimator_\n",
        "rf = RandomForestRegressor(n_estimators=best_n_estim,\n",
        "                            max_features=best_max_features)\n",
        " \n",
        "rf.fit(X_train, y_train)\n",
        "rf_predictions = rf.predict(X_test)\n",
        " \n",
        "\n",
        "print (\"Overall Accuracy:\", round(metrics.r2_score(y_test, rf_predictions), 3))"
      ],
      "execution_count": 209,
      "outputs": [
        {
          "output_type": "stream",
          "text": [
            "The best performing n_estimators value is:    67\n",
            "The best performing max_features value is:     5\n",
            "Overall Accuracy: 0.944\n"
          ],
          "name": "stdout"
        }
      ]
    },
    {
      "cell_type": "code",
      "metadata": {
        "colab_type": "code",
        "outputId": "29df30f1-59c0-4e3f-82d5-54d2a948f07d",
        "id": "uLA7kMCGWvxQ",
        "colab": {
          "base_uri": "https://localhost:8080/",
          "height": 138
        }
      },
      "source": [
        "from sklearn.ensemble import RandomForestRegressor\n",
        "rfreg=RandomForestRegressor(n_estimators=67,random_state=42,max_features=5)\n",
        "rfreg.fit(X_train,y_train)"
      ],
      "execution_count": 327,
      "outputs": [
        {
          "output_type": "execute_result",
          "data": {
            "text/plain": [
              "RandomForestRegressor(bootstrap=True, ccp_alpha=0.0, criterion='mse',\n",
              "                      max_depth=None, max_features=5, max_leaf_nodes=None,\n",
              "                      max_samples=None, min_impurity_decrease=0.0,\n",
              "                      min_impurity_split=None, min_samples_leaf=1,\n",
              "                      min_samples_split=2, min_weight_fraction_leaf=0.0,\n",
              "                      n_estimators=67, n_jobs=None, oob_score=False,\n",
              "                      random_state=42, verbose=0, warm_start=False)"
            ]
          },
          "metadata": {
            "tags": []
          },
          "execution_count": 327
        }
      ]
    },
    {
      "cell_type": "code",
      "metadata": {
        "colab_type": "code",
        "outputId": "3a27bf60-7735-4c39-c164-6e4f01ee5781",
        "id": "a3EK1FrLWvxW",
        "colab": {
          "base_uri": "https://localhost:8080/",
          "height": 52
        }
      },
      "source": [
        "rfreg.predict(X_test)"
      ],
      "execution_count": 328,
      "outputs": [
        {
          "output_type": "execute_result",
          "data": {
            "text/plain": [
              "array([4.49997455, 4.77374591, 3.56637156, ..., 5.19287413, 5.57925479,\n",
              "       5.1791007 ])"
            ]
          },
          "metadata": {
            "tags": []
          },
          "execution_count": 328
        }
      ]
    },
    {
      "cell_type": "code",
      "metadata": {
        "colab_type": "code",
        "outputId": "84761e5e-c5a4-4fdc-8a2c-53550b94c8c8",
        "id": "kIR4YQiDWvxc",
        "colab": {
          "base_uri": "https://localhost:8080/",
          "height": 34
        }
      },
      "source": [
        "rfreg_train = rfreg.score(X_train,y_train)\n",
        "rfreg_train"
      ],
      "execution_count": 329,
      "outputs": [
        {
          "output_type": "execute_result",
          "data": {
            "text/plain": [
              "0.9917934704752639"
            ]
          },
          "metadata": {
            "tags": []
          },
          "execution_count": 329
        }
      ]
    },
    {
      "cell_type": "code",
      "metadata": {
        "colab_type": "code",
        "outputId": "a8175f3e-613d-4953-f9cb-e6da69c8500f",
        "id": "V95pzK-PWvxf",
        "colab": {
          "base_uri": "https://localhost:8080/",
          "height": 34
        }
      },
      "source": [
        "rfreg_test = rfreg.score(X_test,y_test)\n",
        "rfreg_test"
      ],
      "execution_count": 330,
      "outputs": [
        {
          "output_type": "execute_result",
          "data": {
            "text/plain": [
              "0.9421008709357758"
            ]
          },
          "metadata": {
            "tags": []
          },
          "execution_count": 330
        }
      ]
    },
    {
      "cell_type": "markdown",
      "metadata": {
        "id": "cu2PZl5x6hR8",
        "colab_type": "text"
      },
      "source": [
        "We have the optimized accuracy now."
      ]
    },
    {
      "cell_type": "code",
      "metadata": {
        "colab_type": "code",
        "outputId": "2cfa696d-aa8b-4a77-ad70-60897546df89",
        "id": "xT_2x-XcWvxh",
        "colab": {
          "base_uri": "https://localhost:8080/",
          "height": 285
        }
      },
      "source": [
        "sns.scatterplot(y_test, rfreg.predict(X_test), alpha=0.2)\n",
        "plt.xlabel('Targets(y_test)')\n",
        "plt.ylabel('Predictions')\n",
        "plt.show()"
      ],
      "execution_count": 331,
      "outputs": [
        {
          "output_type": "display_data",
          "data": {
            "image/png": "[encoded data removed]",
            "text/plain": [
              "<Figure size 432x288 with 1 Axes>"
            ]
          },
          "metadata": {
            "tags": []
          }
        }
      ]
    },
    {
      "cell_type": "markdown",
      "metadata": {
        "id": "Y9qnAZux6q5H",
        "colab_type": "text"
      },
      "source": [
        "Optimized sctterplot of prediction vs actual."
      ]
    },
    {
      "cell_type": "markdown",
      "metadata": {
        "id": "dzJm70GdJzON",
        "colab_type": "text"
      },
      "source": [
        "### **SVM**"
      ]
    },
    {
      "cell_type": "code",
      "metadata": {
        "id": "qYU22qob_hxH",
        "colab_type": "code",
        "outputId": "5cfdc422-2179-40dc-b521-3f1b36b9cde3",
        "colab": {
          "base_uri": "https://localhost:8080/",
          "height": 52
        }
      },
      "source": [
        "from sklearn.svm import SVR\n",
        "sreg = SVR(kernel='linear')\n",
        "sreg.fit(X_train, y_train)"
      ],
      "execution_count": 332,
      "outputs": [
        {
          "output_type": "execute_result",
          "data": {
            "text/plain": [
              "SVR(C=1.0, cache_size=200, coef0=0.0, degree=3, epsilon=0.1, gamma='scale',\n",
              "    kernel='linear', max_iter=-1, shrinking=True, tol=0.001, verbose=False)"
            ]
          },
          "metadata": {
            "tags": []
          },
          "execution_count": 332
        }
      ]
    },
    {
      "cell_type": "code",
      "metadata": {
        "id": "dAry1K8B_hxI",
        "colab_type": "code",
        "outputId": "6ac544f6-8015-4dd7-c239-883de4e7e6c6",
        "colab": {
          "base_uri": "https://localhost:8080/",
          "height": 52
        }
      },
      "source": [
        "sreg.predict(X_test)"
      ],
      "execution_count": 333,
      "outputs": [
        {
          "output_type": "execute_result",
          "data": {
            "text/plain": [
              "array([4.35559243, 4.70670332, 3.55535511, ..., 4.83890897, 5.50526384,\n",
              "       4.79054485])"
            ]
          },
          "metadata": {
            "tags": []
          },
          "execution_count": 333
        }
      ]
    },
    {
      "cell_type": "code",
      "metadata": {
        "id": "6T6mT3VX_hxJ",
        "colab_type": "code",
        "outputId": "c33d5130-eeb0-402c-e52f-2d07781eb2b8",
        "colab": {
          "base_uri": "https://localhost:8080/",
          "height": 34
        }
      },
      "source": [
        "sreg_train = sreg.score(X_train,y_train)\n",
        "sreg_train"
      ],
      "execution_count": 334,
      "outputs": [
        {
          "output_type": "execute_result",
          "data": {
            "text/plain": [
              "0.8683385757580707"
            ]
          },
          "metadata": {
            "tags": []
          },
          "execution_count": 334
        }
      ]
    },
    {
      "cell_type": "code",
      "metadata": {
        "id": "9sUUWzRG_hxK",
        "colab_type": "code",
        "outputId": "f510a743-8675-40d7-ff9a-247aee1c5552",
        "colab": {
          "base_uri": "https://localhost:8080/",
          "height": 34
        }
      },
      "source": [
        "sreg_test = sreg.score(X_test,y_test)\n",
        "sreg_test"
      ],
      "execution_count": 335,
      "outputs": [
        {
          "output_type": "execute_result",
          "data": {
            "text/plain": [
              "0.8632344463386883"
            ]
          },
          "metadata": {
            "tags": []
          },
          "execution_count": 335
        }
      ]
    },
    {
      "cell_type": "markdown",
      "metadata": {
        "id": "PYB3cfX762CB",
        "colab_type": "text"
      },
      "source": [
        "Our model is good and is not bias."
      ]
    },
    {
      "cell_type": "code",
      "metadata": {
        "id": "iupC42Zj_hxM",
        "colab_type": "code",
        "outputId": "35bc630b-a3cf-47f8-9aae-38e48efbc04c",
        "colab": {
          "base_uri": "https://localhost:8080/",
          "height": 285
        }
      },
      "source": [
        "sns.scatterplot(y_test, sreg.predict(X_test), alpha=0.2)\n",
        "plt.xlabel('NOx(GT)(y_test)')\n",
        "plt.ylabel('Predictions')\n",
        "plt.show()"
      ],
      "execution_count": 336,
      "outputs": [
        {
          "output_type": "display_data",
          "data": {
            "image/png": "[encoded data removed]",
            "text/plain": [
              "<Figure size 432x288 with 1 Axes>"
            ]
          },
          "metadata": {
            "tags": []
          }
        }
      ]
    },
    {
      "cell_type": "markdown",
      "metadata": {
        "id": "d7ejPr5B7IqB",
        "colab_type": "text"
      },
      "source": [
        "Really good at predicting lower level."
      ]
    },
    {
      "cell_type": "markdown",
      "metadata": {
        "id": "M6u4L5XuChGP",
        "colab_type": "text"
      },
      "source": [
        "### **XGBoost**"
      ]
    },
    {
      "cell_type": "code",
      "metadata": {
        "id": "Vh7jzCspCc7T",
        "colab_type": "code",
        "outputId": "ef51ecd8-c516-483d-dfa9-8e140bb97489",
        "colab": {
          "base_uri": "https://localhost:8080/",
          "height": 155
        }
      },
      "source": [
        "from xgboost import XGBRegressor\n",
        "xreg = XGBRegressor()\n",
        "xreg.fit(X_train, y_train)"
      ],
      "execution_count": 337,
      "outputs": [
        {
          "output_type": "stream",
          "text": [
            "[08:36:38] WARNING: /workspace/src/objective/regression_obj.cu:152: reg:linear is now deprecated in favor of reg:squarederror.\n"
          ],
          "name": "stdout"
        },
        {
          "output_type": "execute_result",
          "data": {
            "text/plain": [
              "XGBRegressor(base_score=0.5, booster='gbtree', colsample_bylevel=1,\n",
              "             colsample_bynode=1, colsample_bytree=1, gamma=0,\n",
              "             importance_type='gain', learning_rate=0.1, max_delta_step=0,\n",
              "             max_depth=3, min_child_weight=1, missing=None, n_estimators=100,\n",
              "             n_jobs=1, nthread=None, objective='reg:linear', random_state=0,\n",
              "             reg_alpha=0, reg_lambda=1, scale_pos_weight=1, seed=None,\n",
              "             silent=None, subsample=1, verbosity=1)"
            ]
          },
          "metadata": {
            "tags": []
          },
          "execution_count": 337
        }
      ]
    },
    {
      "cell_type": "code",
      "metadata": {
        "colab_type": "code",
        "id": "gI2v8r1GDRHK",
        "colab": {}
      },
      "source": [
        "y_predict = xreg.predict(X_test)"
      ],
      "execution_count": 0,
      "outputs": []
    },
    {
      "cell_type": "code",
      "metadata": {
        "id": "W14dHFx9D9Sz",
        "colab_type": "code",
        "outputId": "55fbea60-bf10-4d60-95a9-532548a2ca3e",
        "colab": {
          "base_uri": "https://localhost:8080/",
          "height": 34
        }
      },
      "source": [
        "r2_score(y_test, y_predict)"
      ],
      "execution_count": 339,
      "outputs": [
        {
          "output_type": "execute_result",
          "data": {
            "text/plain": [
              "0.9142645085662329"
            ]
          },
          "metadata": {
            "tags": []
          },
          "execution_count": 339
        }
      ]
    },
    {
      "cell_type": "code",
      "metadata": {
        "colab_type": "code",
        "outputId": "282b4be6-5ee1-47e1-f616-384f5475ba45",
        "id": "QMzgQaoFDRHR",
        "colab": {
          "base_uri": "https://localhost:8080/",
          "height": 34
        }
      },
      "source": [
        "xreg_train = xreg.score(X_train,y_train)\n",
        "xreg_train"
      ],
      "execution_count": 340,
      "outputs": [
        {
          "output_type": "execute_result",
          "data": {
            "text/plain": [
              "0.9294343601334216"
            ]
          },
          "metadata": {
            "tags": []
          },
          "execution_count": 340
        }
      ]
    },
    {
      "cell_type": "code",
      "metadata": {
        "colab_type": "code",
        "outputId": "82404a4b-887a-4790-a4fd-e0a6f0e5048a",
        "id": "uQkzsLMvDRHW",
        "colab": {
          "base_uri": "https://localhost:8080/",
          "height": 34
        }
      },
      "source": [
        "xreg_test = xreg.score(X_test,y_test)\n",
        "xreg_test"
      ],
      "execution_count": 341,
      "outputs": [
        {
          "output_type": "execute_result",
          "data": {
            "text/plain": [
              "0.9142645085662329"
            ]
          },
          "metadata": {
            "tags": []
          },
          "execution_count": 341
        }
      ]
    },
    {
      "cell_type": "markdown",
      "metadata": {
        "id": "mFUcHGj17VnO",
        "colab_type": "text"
      },
      "source": [
        "There does not contain any difference between training and test."
      ]
    },
    {
      "cell_type": "code",
      "metadata": {
        "colab_type": "code",
        "outputId": "30d6077e-e78a-41c0-e69d-eec739ab529c",
        "id": "MoBKMXg3DRHZ",
        "colab": {
          "base_uri": "https://localhost:8080/",
          "height": 285
        }
      },
      "source": [
        "sns.scatterplot(y_test, xreg.predict(X_test), alpha=0.2)\n",
        "plt.xlabel('NOx(GT)(y_test)')\n",
        "plt.ylabel('Predictions')\n",
        "plt.show()"
      ],
      "execution_count": 342,
      "outputs": [
        {
          "output_type": "display_data",
          "data": {
            "image/png": "[encoded data removed]",
            "text/plain": [
              "<Figure size 432x288 with 1 Axes>"
            ]
          },
          "metadata": {
            "tags": []
          }
        }
      ]
    },
    {
      "cell_type": "markdown",
      "metadata": {
        "id": "8K7ZaMWO7ugN",
        "colab_type": "text"
      },
      "source": [
        "**Hyper-parameter Optimization**"
      ]
    },
    {
      "cell_type": "code",
      "metadata": {
        "id": "L8ceWq9gG8R9",
        "colab_type": "code",
        "colab": {}
      },
      "source": [
        "booster=['gbtree','gblinear']\n",
        "base_score=[0.25,0.5,0.75,1]"
      ],
      "execution_count": 0,
      "outputs": []
    },
    {
      "cell_type": "code",
      "metadata": {
        "id": "hshXhqDaG8PB",
        "colab_type": "code",
        "colab": {}
      },
      "source": [
        "## Hyper Parameter Optimization\n",
        "\n",
        "n_estimators = [100, 500, 900, 1100, 1500]\n",
        "max_depth = [2, 3, 5, 10, 15]\n",
        "booster=['gbtree','gblinear']\n",
        "learning_rate=[0.05,0.1,0.15,0.20]\n",
        "min_child_weight=[1,2,3,4]\n",
        "\n",
        "# Define the grid of hyperparameters to search\n",
        "hyperparameter_grid = {\n",
        "    'n_estimators': n_estimators,\n",
        "    'max_depth':max_depth,\n",
        "    'learning_rate':learning_rate,\n",
        "    'min_child_weight':min_child_weight,\n",
        "    'booster':booster,\n",
        "    'base_score':base_score\n",
        "    }"
      ],
      "execution_count": 0,
      "outputs": []
    },
    {
      "cell_type": "code",
      "metadata": {
        "id": "QP2crGF_G8Mt",
        "colab_type": "code",
        "colab": {}
      },
      "source": [
        "# Set up the random search with 4-fold cross validation\n",
        "from sklearn.model_selection import RandomizedSearchCV\n",
        "random_cv = RandomizedSearchCV(estimator=xreg,\n",
        "            param_distributions=hyperparameter_grid,\n",
        "            cv=5, n_iter=50,\n",
        "            scoring = 'neg_mean_absolute_error',n_jobs = -1,\n",
        "            verbose = 5, \n",
        "            return_train_score = True,\n",
        "            random_state=42)"
      ],
      "execution_count": 0,
      "outputs": []
    },
    {
      "cell_type": "code",
      "metadata": {
        "id": "ved-tg7MG8KK",
        "colab_type": "code",
        "outputId": "523757d4-26cf-4a9a-86aa-44ff65f58c94",
        "colab": {
          "base_uri": "https://localhost:8080/",
          "height": 536
        }
      },
      "source": [
        "random_cv.fit(X_train,y_train)"
      ],
      "execution_count": 347,
      "outputs": [
        {
          "output_type": "stream",
          "text": [
            "Fitting 5 folds for each of 50 candidates, totalling 250 fits\n"
          ],
          "name": "stdout"
        },
        {
          "output_type": "stream",
          "text": [
            "[Parallel(n_jobs=-1)]: Using backend LokyBackend with 2 concurrent workers.\n",
            "[Parallel(n_jobs=-1)]: Done  14 tasks      | elapsed:   26.0s\n",
            "[Parallel(n_jobs=-1)]: Done  68 tasks      | elapsed:  3.7min\n",
            "[Parallel(n_jobs=-1)]: Done 158 tasks      | elapsed:  5.8min\n",
            "[Parallel(n_jobs=-1)]: Done 250 out of 250 | elapsed:  8.3min finished\n"
          ],
          "name": "stderr"
        },
        {
          "output_type": "stream",
          "text": [
            "[08:54:13] WARNING: /workspace/src/objective/regression_obj.cu:152: reg:linear is now deprecated in favor of reg:squarederror.\n"
          ],
          "name": "stdout"
        },
        {
          "output_type": "execute_result",
          "data": {
            "text/plain": [
              "RandomizedSearchCV(cv=5, error_score=nan,\n",
              "                   estimator=XGBRegressor(base_score=0.5, booster='gbtree',\n",
              "                                          colsample_bylevel=1,\n",
              "                                          colsample_bynode=1,\n",
              "                                          colsample_bytree=1, gamma=0,\n",
              "                                          importance_type='gain',\n",
              "                                          learning_rate=0.1, max_delta_step=0,\n",
              "                                          max_depth=3, min_child_weight=1,\n",
              "                                          missing=None, n_estimators=100,\n",
              "                                          n_jobs=1, nthread=None,\n",
              "                                          objective='reg:linear',\n",
              "                                          random_state=0, reg_alpha=...\n",
              "                   iid='deprecated', n_iter=50, n_jobs=-1,\n",
              "                   param_distributions={'base_score': [0.25, 0.5, 0.75, 1],\n",
              "                                        'booster': ['gbtree', 'gblinear'],\n",
              "                                        'learning_rate': [0.05, 0.1, 0.15, 0.2],\n",
              "                                        'max_depth': [2, 3, 5, 10, 15],\n",
              "                                        'min_child_weight': [1, 2, 3, 4],\n",
              "                                        'n_estimators': [100, 500, 900, 1100,\n",
              "                                                         1500]},\n",
              "                   pre_dispatch='2*n_jobs', random_state=42, refit=True,\n",
              "                   return_train_score=True, scoring='neg_mean_absolute_error',\n",
              "                   verbose=5)"
            ]
          },
          "metadata": {
            "tags": []
          },
          "execution_count": 347
        }
      ]
    },
    {
      "cell_type": "code",
      "metadata": {
        "id": "cYTKT1jVG8FE",
        "colab_type": "code",
        "outputId": "868a6b1a-8261-4c90-d636-25af99870aa7",
        "colab": {
          "base_uri": "https://localhost:8080/",
          "height": 138
        }
      },
      "source": [
        "random_cv.best_estimator_"
      ],
      "execution_count": 348,
      "outputs": [
        {
          "output_type": "execute_result",
          "data": {
            "text/plain": [
              "XGBRegressor(base_score=0.5, booster='gbtree', colsample_bylevel=1,\n",
              "             colsample_bynode=1, colsample_bytree=1, gamma=0,\n",
              "             importance_type='gain', learning_rate=0.05, max_delta_step=0,\n",
              "             max_depth=15, min_child_weight=4, missing=None, n_estimators=900,\n",
              "             n_jobs=1, nthread=None, objective='reg:linear', random_state=0,\n",
              "             reg_alpha=0, reg_lambda=1, scale_pos_weight=1, seed=None,\n",
              "             silent=None, subsample=1, verbosity=1)"
            ]
          },
          "metadata": {
            "tags": []
          },
          "execution_count": 348
        }
      ]
    },
    {
      "cell_type": "code",
      "metadata": {
        "colab_type": "code",
        "id": "PtVcHf7jMC33",
        "outputId": "35aefad8-215f-4aae-bf0d-d81766a8cc3f",
        "colab": {
          "base_uri": "https://localhost:8080/",
          "height": 155
        }
      },
      "source": [
        "from xgboost import XGBRegressor\n",
        "xreg = XGBRegressor(base_score=0.5, booster='gbtree', colsample_bylevel=1,\n",
        "             colsample_bynode=1, colsample_bytree=1, gamma=0,\n",
        "             importance_type='gain', learning_rate=0.05, max_delta_step=0,\n",
        "             max_depth=15, min_child_weight=4, missing=None, n_estimators=900,\n",
        "             n_jobs=1, nthread=None, objective='reg:linear', random_state=0,\n",
        "             reg_alpha=0, reg_lambda=1, scale_pos_weight=1, seed=None,\n",
        "             silent=None, subsample=1, verbosity=1)\n",
        "xreg.fit(X_train, y_train)"
      ],
      "execution_count": 350,
      "outputs": [
        {
          "output_type": "stream",
          "text": [
            "[08:55:12] WARNING: /workspace/src/objective/regression_obj.cu:152: reg:linear is now deprecated in favor of reg:squarederror.\n"
          ],
          "name": "stdout"
        },
        {
          "output_type": "execute_result",
          "data": {
            "text/plain": [
              "XGBRegressor(base_score=0.5, booster='gbtree', colsample_bylevel=1,\n",
              "             colsample_bynode=1, colsample_bytree=1, gamma=0,\n",
              "             importance_type='gain', learning_rate=0.05, max_delta_step=0,\n",
              "             max_depth=15, min_child_weight=4, missing=None, n_estimators=900,\n",
              "             n_jobs=1, nthread=None, objective='reg:linear', random_state=0,\n",
              "             reg_alpha=0, reg_lambda=1, scale_pos_weight=1, seed=None,\n",
              "             silent=None, subsample=1, verbosity=1)"
            ]
          },
          "metadata": {
            "tags": []
          },
          "execution_count": 350
        }
      ]
    },
    {
      "cell_type": "code",
      "metadata": {
        "colab_type": "code",
        "id": "U8x5YTyeMC3-",
        "colab": {}
      },
      "source": [
        "y_predict = xreg.predict(X_test)"
      ],
      "execution_count": 0,
      "outputs": []
    },
    {
      "cell_type": "code",
      "metadata": {
        "colab_type": "code",
        "id": "hUGvJ_S-MC4B",
        "outputId": "f7fe3fd6-25e9-481a-bf93-d13415b91f7f",
        "colab": {
          "base_uri": "https://localhost:8080/",
          "height": 34
        }
      },
      "source": [
        "r2_score(y_test, y_predict)"
      ],
      "execution_count": 352,
      "outputs": [
        {
          "output_type": "execute_result",
          "data": {
            "text/plain": [
              "0.9471835135104048"
            ]
          },
          "metadata": {
            "tags": []
          },
          "execution_count": 352
        }
      ]
    },
    {
      "cell_type": "code",
      "metadata": {
        "colab_type": "code",
        "id": "cqzl8WYiMC4E",
        "outputId": "c4d60aea-d2ea-4a92-81f9-fce6eb2ae9e3",
        "colab": {
          "base_uri": "https://localhost:8080/",
          "height": 34
        }
      },
      "source": [
        "xreg_train = xreg.score(X_train,y_train)\n",
        "xreg_train"
      ],
      "execution_count": 353,
      "outputs": [
        {
          "output_type": "execute_result",
          "data": {
            "text/plain": [
              "0.9994472732884594"
            ]
          },
          "metadata": {
            "tags": []
          },
          "execution_count": 353
        }
      ]
    },
    {
      "cell_type": "code",
      "metadata": {
        "colab_type": "code",
        "id": "rG2n70f2MC4H",
        "outputId": "e856f314-d2f9-4d98-a9b8-a7776bcecec9",
        "colab": {
          "base_uri": "https://localhost:8080/",
          "height": 34
        }
      },
      "source": [
        "xreg_test = xreg.score(X_test,y_test)\n",
        "xreg_test"
      ],
      "execution_count": 354,
      "outputs": [
        {
          "output_type": "execute_result",
          "data": {
            "text/plain": [
              "0.9471835135104048"
            ]
          },
          "metadata": {
            "tags": []
          },
          "execution_count": 354
        }
      ]
    },
    {
      "cell_type": "code",
      "metadata": {
        "colab_type": "code",
        "id": "ZbQsuSc7MC4J",
        "outputId": "4b724167-ed7b-4dfe-f285-a4445b67e79d",
        "colab": {
          "base_uri": "https://localhost:8080/",
          "height": 285
        }
      },
      "source": [
        "sns.scatterplot(y_test, xreg.predict(X_test), alpha=0.2)\n",
        "plt.xlabel('NOx(GT)(y_test)')\n",
        "plt.ylabel('Predictions')\n",
        "plt.show()"
      ],
      "execution_count": 355,
      "outputs": [
        {
          "output_type": "display_data",
          "data": {
            "image/png": "[encoded data removed]",
            "text/plain": [
              "<Figure size 432x288 with 1 Axes>"
            ]
          },
          "metadata": {
            "tags": []
          }
        }
      ]
    },
    {
      "cell_type": "markdown",
      "metadata": {
        "id": "y8kN96Ft8C14",
        "colab_type": "text"
      },
      "source": [
        "XGBoost is good but is little bit bias."
      ]
    },
    {
      "cell_type": "markdown",
      "metadata": {
        "id": "2e3SnBJD6WwD",
        "colab_type": "text"
      },
      "source": [
        "### **Final Accuracies**"
      ]
    },
    {
      "cell_type": "code",
      "metadata": {
        "id": "Y-frudyQ5vzd",
        "colab_type": "code",
        "outputId": "614723e1-d7f9-4198-fd26-f30a7afed811",
        "colab": {
          "base_uri": "https://localhost:8080/",
          "height": 228
        }
      },
      "source": [
        "results = pd.DataFrame({'Algorithm':['Linear Regression(Z-Score)','K-Nearest Neighbour Regressor','Decision Tree Regressor', 'Random Forest Regressor',\n",
        "                                     'Support Vector Machine Regressor', 'XGBoost'],\n",
        "                        'Train Accuracy':[score_train, kreg_train, dreg_train,rfreg_train, sreg_train,xreg_train],\n",
        "                        'Test Accuracy':[score_test, kreg_test, dreg_test,rfreg_test, sreg_test,xreg_test]})\n",
        "results.sort_values('Test Accuracy', ascending=False)"
      ],
      "execution_count": 356,
      "outputs": [
        {
          "output_type": "execute_result",
          "data": {
            "text/html": [
              "<div>\n",
              "<style scoped>\n",
              "    .dataframe tbody tr th:only-of-type {\n",
              "        vertical-align: middle;\n",
              "    }\n",
              "\n",
              "    .dataframe tbody tr th {\n",
              "        vertical-align: top;\n",
              "    }\n",
              "\n",
              "    .dataframe thead th {\n",
              "        text-align: right;\n",
              "    }\n",
              "</style>\n",
              "<table border=\"1\" class=\"dataframe\">\n",
              "  <thead>\n",
              "    <tr style=\"text-align: right;\">\n",
              "      <th></th>\n",
              "      <th>Algorithm</th>\n",
              "      <th>Train Accuracy</th>\n",
              "      <th>Test Accuracy</th>\n",
              "    </tr>\n",
              "  </thead>\n",
              "  <tbody>\n",
              "    <tr>\n",
              "      <th>5</th>\n",
              "      <td>XGBoost</td>\n",
              "      <td>0.999447</td>\n",
              "      <td>0.947184</td>\n",
              "    </tr>\n",
              "    <tr>\n",
              "      <th>3</th>\n",
              "      <td>Random Forest Regressor</td>\n",
              "      <td>0.991793</td>\n",
              "      <td>0.942101</td>\n",
              "    </tr>\n",
              "    <tr>\n",
              "      <th>1</th>\n",
              "      <td>K-Nearest Neighbour Regressor</td>\n",
              "      <td>0.954436</td>\n",
              "      <td>0.922510</td>\n",
              "    </tr>\n",
              "    <tr>\n",
              "      <th>2</th>\n",
              "      <td>Decision Tree Regressor</td>\n",
              "      <td>0.999583</td>\n",
              "      <td>0.882638</td>\n",
              "    </tr>\n",
              "    <tr>\n",
              "      <th>0</th>\n",
              "      <td>Linear Regression(Z-Score)</td>\n",
              "      <td>0.869907</td>\n",
              "      <td>0.864467</td>\n",
              "    </tr>\n",
              "    <tr>\n",
              "      <th>4</th>\n",
              "      <td>Support Vector Machine Regressor</td>\n",
              "      <td>0.868339</td>\n",
              "      <td>0.863234</td>\n",
              "    </tr>\n",
              "  </tbody>\n",
              "</table>\n",
              "</div>"
            ],
            "text/plain": [
              "                          Algorithm  Train Accuracy  Test Accuracy\n",
              "5                           XGBoost        0.999447       0.947184\n",
              "3           Random Forest Regressor        0.991793       0.942101\n",
              "1     K-Nearest Neighbour Regressor        0.954436       0.922510\n",
              "2           Decision Tree Regressor        0.999583       0.882638\n",
              "0        Linear Regression(Z-Score)        0.869907       0.864467\n",
              "4  Support Vector Machine Regressor        0.868339       0.863234"
            ]
          },
          "metadata": {
            "tags": []
          },
          "execution_count": 356
        }
      ]
    },
    {
      "cell_type": "markdown",
      "metadata": {
        "id": "1no14GzR8QDW",
        "colab_type": "text"
      },
      "source": [
        "**Conclusion:** \n",
        "* Gases like CO, NOx, titania, and Benzene are increased in the air over time.\n",
        "* The frequency of Oxides in Nitrogen is increasing\n",
        "* During the day Nitrogen Oxides' level is high compared to night\n",
        "* By looking at above table, we conclude that Random Forest regressor performed best and is not bias as there is not much difference between predicting the training and testing data."
      ]
    }
  ]
}